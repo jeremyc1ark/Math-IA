{
 "cells": [
  {
   "cell_type": "markdown",
   "metadata": {},
   "source": [
    "## Section 1: Introduction ##\n"
   ]
  },
  {
   "cell_type": "markdown",
   "metadata": {},
   "source": [
    "## Section --: Rotation Matrices ##\n",
    "#### The mathematical basis of rotation in two dimensions ####"
   ]
  },
  {
   "cell_type": "markdown",
   "metadata": {},
   "source": [
    "To design a complex program, it is often useful to understand its constituent parts. In pursuing the goal of designing a system which can accurately portray rotation in three dimensions, it is important to understand how rotation can be portrayed in two dimensions. These concepts can later be extrapolated to the three dimensional model.\n",
    "\n",
    "Let us start with a reference frame consisting of two lines, $\\hat{x}$ and $\\hat{y}$, where $\\hat{x}$ and $\\hat{y}$ are orthogonal to each other.\n",
    "\n",
    "Within that reference frame, let there be a coordinate vector $\\vec{a}=\\begin{bmatrix}a_{x} \\\\ a_{y}\\end{bmatrix}$. The angle between $\\hat{x}$ and $\\vec{a}$ is $\\theta$, which can also be defined as $\\arcsin{\\frac{\\vec{a}_{y}}{b}}$.\n",
    "\n",
    "Using trigonometry, we can determine that $\\begin{bmatrix}a_{x} \\\\ a_{y}\\end{bmatrix}=\\begin{bmatrix}\\|\\vec{a}\\|\\cos{\\theta} \\\\ \\|\\vec{a}\\|\\sin{\\theta}\\end{bmatrix}$. This equation is true because $\\cos{d}$ is equal to the x-coordinate of the tip of a vector in a unit circle, where $d$ is equal to the counter clockwise angle from the x-axis. Similarly, $\\sin{d}$ is equal to the y-coordinate of the tip of a vector in a unit circle. Usually, the vector cannot be contained within a unit circle (its magnitude is not equal to 1), which is why both terms are have $r$ as coefficients. This scales the points such that the magnitude of the vector in polar form is the same as the magnitude in coordinate form.\n",
    "\n",
    "Say that we want to rotate $\\vec{a}$ by $\\phi$ degrees to create a new vector called $\\vec{a}'$. Using the formula above, we can deduce that $\\vec{a}'=\\begin{bmatrix}\\|\\vec{a}\\|\\cos{(\\theta+\\phi)} \\\\ \\|\\vec{a}\\|\\sin{(\\theta+\\phi)}\\end{bmatrix}$. Figure __ shows what this might look like."
   ]
  },
  {
   "cell_type": "markdown",
   "metadata": {},
   "source": [
    "**Figure __:** A rotation in two dimensions.\n",
    "\n",
    "![image](C:\\Users\\Jeremy\\Desktop\\math-IA\\images\\2d-rotation.jpg)"
   ]
  },
  {
   "cell_type": "markdown",
   "metadata": {},
   "source": [
    "We know:\n",
    "* $\\sin{(x+y)}=\\sin{x}\\cos{y}+\\sin{y}\\cos{x}$\n",
    "* $\\cos{(x+y)}=\\cos{x}\\cos{y}-\\sin{x}\\sin{y}$\n",
    "\n",
    "Therefore, we can rewrite $\\begin{bmatrix}\\|\\vec{a}\\|\\cos{(\\theta+\\phi)} \\\\ \\|\\vec{a}\\|\\sin{(\\theta+\\phi)}\\end{bmatrix}$ as $\\begin{bmatrix}\\|\\vec{a}\\|\\cos{\\theta}\\cos{\\phi}-\\|\\vec{a}\\|\\sin{\\theta}\\sin{\\phi} \\\\ \\|\\vec{a}\\|\\sin{\\theta}\\cos{\\phi}+\\|\\vec{a}\\|\\sin{\\phi}\\cos{\\theta}\\end{bmatrix}$.\n",
    "\n",
    "Using $\\begin{bmatrix}a_{x} \\\\ a_{y}\\end{bmatrix}=\\begin{bmatrix}\\|\\vec{a}\\|\\cos{\\theta} \\\\ \\|\\vec{a}\\|\\sin{\\theta}\\end{bmatrix}$, we can rewrite the former again as $\\begin{bmatrix}a_{x}\\cos{\\phi}-a_{y}\\sin{\\phi} \\\\ a_{x}\\sin{\\phi}+a_{y}\\cos{\\phi}\\end{bmatrix}$. This can be rewritten into its simplest form: $\\begin{bmatrix}a_{x} \\\\ a_{y}\\end{bmatrix}\\begin{bmatrix}\\cos{\\phi} & -\\sin{\\phi} \\\\ \\sin{\\phi} & \\cos{\\phi}\\end{bmatrix}$. So, if one wants to rotate $\\vec{a}$ by $\\phi$ degrees, then $\\vec{a}'=\\vec{a}\\begin{bmatrix}\\cos{\\phi} & -\\sin{\\phi} \\\\ \\sin{\\phi} & \\cos{\\phi}\\end{bmatrix}$. The coefficient of $\\vec{a}$ in this formula is known as the rotation matrix. $\\begin{bmatrix}\\cos{\\phi} & -\\sin{\\phi} \\\\ \\sin{\\phi} & \\cos{\\phi}\\end{bmatrix}$ is the rotation matrix about the origin in two dimensions.\n"
   ]
  },
  {
   "cell_type": "markdown",
   "metadata": {},
   "source": [
    "#### Calculating resultant coordinates of 3D rotation operations ####"
   ]
  },
  {
   "cell_type": "markdown",
   "metadata": {},
   "source": [
    "\n",
    "We can now establish the reference frame for a three dimensional model. This time, the reference frame will consist of three lines, otherwise known as axes: $x$, $y$, and $z$. Every axis is orthogonal to every other axis. Rotations in two dimensions always involve just one angle: $\\phi$. However, in three dimensions, vectors can be rotated with three angles, each one corresponding to an axis. For example, one might choose to rotate a vector $20\\degree$ about the $x$ axis, $40\\degree$ about the $y$ axis and $0\\degree$ about the $z$ axis. A rotation in three dimensions can therefore be represented with the vector:\n",
    "\n",
    "$\\begin{bmatrix}\\theta_{x} \\\\ \\theta_{y} \\\\ \\theta_{z}\\end{bmatrix}$\n",
    "\n",
    "Rotation around each of the axes requires its own rotation matrix. One can perform the full rotation by multiplying the vector by each of the rotation matrices.\n",
    "\n",
    "In the three dimensional reference frame, $\\vec{a}=\\begin{bmatrix}a_{x} \\\\ a_{y} \\\\ a_{z}\\end{bmatrix}$. If we want to rotate about the $x$ axis, then we want $a_{x}$ to remain constant and $a_{y}$ and $a_{z}$ to change. We can think of this rotation as happening in two dimensions since it remains on a single plane that is parallel to the $y$ and $z$ axes, and we can also think of the $x$ axis as being the origin of the rotation. If we want the coordinates on the $x$ axis to remain constant, we can fill in the values that would make that happen on the $x$ rotation matrix:\n",
    "\n",
    "$\\begin{bmatrix}1 & 0 & 0 \\\\ 0 & \\_ & \\_ \\\\ 0 & \\_ & \\_\\end{bmatrix}$\n",
    "\n",
    "This leaves four remaining values. Recall that the two dimensional rotation matrix also had four values, and that we are rotating along a two dimensional plane. This means that we can use the values from the two dimensional rotation matrix to fill in the remaining blank spots in this rotation matrix. So, the final rotation matrix for the $x$ axis in three dimensions is:\n",
    "\n",
    "$\\begin{bmatrix}1 & 0 & 0 \\\\ 0 & \\cos{\\theta_{x}} & -\\sin{\\theta_{x}} \\\\ 0 & \\sin{\\theta_{x}} & \\cos{\\theta_{x}}\\end{bmatrix}$\n",
    "\n",
    "We can apply the same principle to the remaining two axes. For the $y$ axis, this gives us: \n",
    "\n",
    "$\\begin{bmatrix}\\cos{\\theta_{y}} & 0 & -\\sin{\\theta_{y}} \\\\ 0 & 1 & 0 \\\\ \\sin{\\theta_{y}} & 0 & \\cos{\\theta_{y}}\\end{bmatrix}$. \n",
    "\n",
    "For the $z$ axis, this gives us:\n",
    "\n",
    "$\\begin{bmatrix}\\cos{\\theta_{z}} & -\\sin{\\theta_{z}} & 0 \\\\ \\sin{\\theta_{z}} & \\cos{\\theta_{z}} & 0 \\\\ 0 & 0 & 1\\end{bmatrix}$."
   ]
  },
  {
   "cell_type": "markdown",
   "metadata": {},
   "source": [
    "## Section --: Factors that affect how a 3D vector space is portrayed 2D ##"
   ]
  },
  {
   "cell_type": "markdown",
   "metadata": {},
   "source": [
    "We now have the ability to determine what the coordinates of a vector will be if it is rotated about a given axis by a given number of degrees. However, we still have no way to display the vector on a two dimensional surface which gives the illusion that we are seeing it in three dimensions. Although we instinctively feel that we are seeing the world in three dimensions, everything we percieve is actually in two dimensions. We can think of our eyes as cameras in that they exist in a three dimensional world, but display a two dimensional picture. Our goal is to replicate the illusion of the camera. The **first factor** that affects how a 3D vector space is portrayed in 2D is the angle from which the camera views the subject. Figure -- shows this."
   ]
  },
  {
   "cell_type": "markdown",
   "metadata": {},
   "source": [
    "**Figure __:** How perspective can change how a 3D vector space is portrayed in 2D.\n",
    "\n",
    "![image](C:\\Users\\Jeremy\\Desktop\\math-IA\\images\\perspective-example.png)"
   ]
  },
  {
   "cell_type": "markdown",
   "metadata": {},
   "source": [
    "Figure -- demonstrates that the number of pixels required to convey a 3D line in 2D changes depending on the angle that you view it from. Figure -- shows this mathematically using trigonometry."
   ]
  },
  {
   "cell_type": "markdown",
   "metadata": {},
   "source": [
    "**Figure __:** A simple example of 2D portrayal in 3D.\n",
    "\n",
    "![image](C:\\Users\\Jeremy\\Desktop\\math-IA\\images\\simple-3d-rotation.jpg)"
   ]
  },
  {
   "cell_type": "markdown",
   "metadata": {},
   "source": [
    "The figure above shows the cross-sectional view (what is shown on the screen) and the overhead view of a line spinning on another line in 3D. Because we know that $\\cos{\\theta}=\\frac{c}{h}$, where $h$ is the length of the hypotenuse, we can deduce that $c=h\\cos{\\theta}$. We also know that $\\cos{\\theta}$ can be negative and that there is no such thing as a negative distance, so we can modify this equation slightly by taking the absolute value of $\\cos{\\theta}$. This makes sense because the cross-sectional view of the line rotated $91\\degree$ would not be negative, but would instead be the same as the cross-sectional view of the line rotated $89\\degree$. So, the final formula would be  $c=h|\\cos{\\theta}|$. Figure __ shows what the value of $c$ would be given $h=6$."
   ]
  },
  {
   "cell_type": "markdown",
   "metadata": {},
   "source": [
    "**Figure __:** The value of $c$ from Figure __ given $h=6$.\n",
    "\n",
    "![image](C:\\Users\\Jeremy\\Desktop\\math-IA\\images\\distance-graph.png)"
   ]
  },
  {
   "cell_type": "markdown",
   "metadata": {},
   "source": [
    "## Section --: Line of Sight ##\n",
    "#### Determining the general function for the camera's line of sight ####"
   ]
  },
  {
   "cell_type": "markdown",
   "metadata": {},
   "source": [
    "The first step involved in portraying a 3D vector space in 2D is to determine the camera's line of sight. \"Line of sight\" refers to the line that intersects with an is orthogonal to the surface of the camera's lens. On a 2D $x$ vs $y$ plot (the one we're accustomed to seeing), the equation for a line can be derived if we know two or more points that the line intersects with. If we have two 2D points $p_1=\\begin{bmatrix}x_1 \\\\ y_1\\end{bmatrix}$ and $p_2=\\begin{bmatrix}x_2 \\\\ y_2\\end{bmatrix}$, then the slope of the line can be found by:\n",
    "\n",
    "$m=\\frac{y_2-y_1}{x_2-x_1}$\n",
    "\n",
    "Then, one of the points can be plugged into the slope-intercept form to find $b$, which is the y-intercept:\n",
    "\n",
    "$y_1 = mx_1 + b \\Rightarrow b = y_1 - mx_1$\n",
    "\n",
    "If we just use $x_1$, $y_1$, $x_2$ and $y_2$, then the slope-intercept form looks like this:\n",
    "\n",
    "$y = (\\frac{y_2-y_1}{x_2-x_1})x + y_1 - x_1(\\frac{y_2-y_1}{x_2-x_1})$\n",
    "\n",
    "A similar principle can be used to determine the equation of a line in 3D. However, for the purposes of our 3D line, the independent variable is the distance travelled along the line itself, which we will name $a$. The values of each of the axes are the dependent variables. The function for the camera's line of sight will be called $cam(a)$. If we are given two 3D points $p_1=\\begin{bmatrix} p_x \\\\ p_y \\\\ p_z\\end{bmatrix}$ (position of the camera) and $p_2=\\begin{bmatrix} x_2 \\\\ y_2 \\\\ z_2\\end{bmatrix}$, then we can write an equation for $cam(a)$. $p_1$ is simply the position of the camera, which is already known. Later, we will determine $p_2$, but for now, it is important to know that the distance between $p_1$ and $p_2$ is always equal to 1, meaning that the slope of the equation for any axis is simply equal to the change in the axis between $p_2$ and $p_1$. In addition, the axis-intercept (the value of the axis when $a=0$) is readily available because the position of the camera has the values for all three axes when $a=0$. Thus we can write the equation for each axis as:\n",
    "\n",
    "$x = (x_2 - p_x)a + p_x$\n",
    "\n",
    "$y = (y_2 - p_y)a + p_y$\n",
    "\n",
    "$z = (z_2 - p_z)a + p_z$\n",
    "\n",
    "Notice that each axis has a different equation because the rate at which the value changes relative to $a$ varies between axes. We can turn this system of equations into one equation that represents the line in three dimensions:\n",
    "\n",
    "$cam(a) = \\begin{bmatrix} (x_2 - p_x)a + p_x \\\\  (y_2 - cam(a)_y)a + cam(a)_y \\\\ (z_2 - p_z)a + p_z\\end{bmatrix}$\n",
    "\n",
    "From now on, I will refer to the line itself as $A$ and to a specific point on that line as $cam(a)$."
   ]
  },
  {
   "cell_type": "markdown",
   "metadata": {},
   "source": [
    "#### Determining the function for the camera's line of sight given specific $o$ and $p$ values ####"
   ]
  },
  {
   "cell_type": "markdown",
   "metadata": {},
   "source": [
    "Now, we know the equation for the camera's line of sight given a $p_2$ value that is one unit away from $p$. But how do we determine what the $p_2$ value is?\n",
    "\n",
    "The value of $p_2$ is dependent on the camera's orientation, $o=\\begin{bmatrix} \\theta_y \\\\ \\theta_p \\end{bmatrix}$. $\\theta_y$ (yaw) changes the orientation about the $y$ axis. If you were to turn your head from left to right, you would be rotating along the yaw axis. This is a clockwise rotation, and the $\\theta_y$ value before the rotation would be less that the $\\theta_y$ value after the rotation. $\\theta_p$ (pitch) changes the orientation about the $x$ axis. If you were to bow your head, you would be rotating along the pitch axis. This is a clockwise rotation, so the $\\theta_p$ value would also increase in this situation. When $\\theta_y$ and $\\theta_p$ are both zero, $p_2=\\begin{bmatrix} x_p \\\\ y_p \\\\ z_p + 1 \\end{bmatrix}$. This means that the line of the camera is orthogonal to the plane formed by the $x$ and $y$ axes. If you were to plot every possible $p_2$ point (there are an infinite number), you would see a sphere with a radius of 1 unit around the position of the camera. Thus, using the rotation matrices defined earlier, we can find $p_2$ using the following equation.\n",
    "\n",
    "$p_2 = \\begin{bmatrix} 0 \\\\ 0 \\\\ 1 \\end{bmatrix}\\begin{bmatrix}\\cos{\\theta_{y}} & 0 & -\\sin{\\theta_{y}} \\\\ 0 & 1 & 0 \\\\ \\sin{\\theta_{y}} & 0 & \\cos{\\theta_{y}}\\end{bmatrix}\\begin{bmatrix}1 & 0 & 0 \\\\ 0 & \\cos{\\theta_{p}} & -\\sin{\\theta_{p}} \\\\ 0 & \\sin{\\theta_{p}} & \\cos{\\theta_{p}}\\end{bmatrix}+p$\n",
    "\n",
    "$\\begin{bmatrix} 0 \\\\ 0 \\\\ 1 \\end{bmatrix}$ represents what $p_2$ would be given $o=\\begin{bmatrix} 0 \\\\ 0 \\end{bmatrix}$ and $p=\\begin{bmatrix} 0 \\\\ 0 \\\\ 0 \\end{bmatrix}$. The rotation matrices that it is a coefficient of rotate this point along the yaw ($y$) and pitch ($x$) axes. We start at the origin because the rotation matrices that we are using are meant for rotation about the axes of the vector space rather than the axes of the camera. The product of the rotation matrices and the position of the camera would put $p_2$ on the surface of a sphere with the origin as its center, which can then be translated towards the position of the camera. We do the rotation about the origin because the rotation matrices defined earlier can only rotate about axes."
   ]
  },
  {
   "cell_type": "markdown",
   "metadata": {},
   "source": [
    "## Section --: The Orthogonal Plane ##\n",
    "#### The general equation of an orthogonal plane ####"
   ]
  },
  {
   "cell_type": "markdown",
   "metadata": {},
   "source": [
    "For any value of $a>0$ ($a$ must be greater than zero because a camera cannot see backwards), there are four \"frame points\" that are coplanar with $cam(a)$ and orthogonal to the line extending from the lens of the camera. These points represent the four corners of the camera's frame, and their values change when $a$ changes. To determine where a 3D point will lie on a 2D screen, we find a plane that is orthogonal to the line extending from the lens of the camera and which contains the 3D point. The intersection between the plane and the line is $cam(a)$, and the euclidean distance between $cam(a)$ and $p$ is $a$.\n",
    "\n",
    "If we are given a line which passes through both the origin and a point $\\begin{bmatrix} n \\\\ o \\\\ p \\end{bmatrix}$, in addition to a point $\\begin{bmatrix} i \\\\ j \\\\ k \\end{bmatrix}$, then a plane which contains the point $\\begin{bmatrix} i \\\\ j \\\\ k \\end{bmatrix}$ and is is orthogonal to the line has the equation: \n",
    "\n",
    "$nx + oy + pz = ni + oj + pk$\n",
    "\n",
    "For example, a plane which contains $\\begin{bmatrix} 20 \\\\ 9 \\\\ 16 \\end{bmatrix}$ and is orthogonal to a line which passes through the origin and $\\begin{bmatrix} 1 \\\\ 4 \\\\ 5 \\end{bmatrix}$ would have this equation:\n",
    "\n",
    "$x + 4y + 5z = 20 + 4 \\cdot 9 + 5 \\cdot 16 = 136$\n",
    "\n",
    "This can be simplified to:\n",
    "\n",
    "$x + 4y + 5z = 136$"
   ]
  },
  {
   "cell_type": "markdown",
   "metadata": {},
   "source": [
    "#### The equation of an orthogonal plane for a specific $a$ value ####"
   ]
  },
  {
   "cell_type": "markdown",
   "metadata": {},
   "source": [
    "\n",
    "We can use this procedure to find the equation of the plane that is orthogonal to the line extending from the camera. $\\begin{bmatrix} i \\\\ j \\\\ k\\end{bmatrix}=cam(a)$ because this is the point that we want the plane to intersect with. Now, we need the point that intersects with the origin and is orthogonal to the plane we are calculating. Recall that the equation for $cam(a)$ is as follows:\n",
    "\n",
    "$cam(a) = \\begin{bmatrix} (x_2 - p_x)a + p_x \\\\  (y_2 - p_y)a + p_y \\\\ (z_2 - p_z)a + p_z\\end{bmatrix}$\n",
    "\n",
    "From this equation, we can derive a line that has the same direction but which intersects with the origin, which is known as the direction vector. A plane orthogonal to the direction vector will always be parallel with the plane that is orthogonal to the line which the direction vector is derived from. Each component of the direction vector is given by the terms in the component corresponding to $cam(a)$ that have a coefficient of $a$. Since each component is written in the same form, we can use the $z$ axis as an example.\n",
    "\n",
    "$cam(a)_z = (z_2 - p_z)a + p_z \\Rightarrow cam(a)'_z = (z_2 - p_z)a$\n",
    "\n",
    "If we apply this to every equation for the 3D line, we get:\n",
    "\n",
    "$cam'(a) = \\begin{bmatrix} (x_2 - p_x)a \\\\  (y_2 - p_y)a \\\\ (z_2 - p_z)a\\end{bmatrix}$\n",
    "\n",
    "By setting $a=1$, we can find a point on $cam'(a)$, which can be used as the point through which the line that is orthogonal to the plane passes. Note that $a$ can be set to any value greater than 1, since the direction of the vector formed by the output would be the same irrespective of its magnitude.\n",
    "\n",
    "$cam'(1) = \\begin{bmatrix} x_2 - p_x \\\\  y_2 - p_y \\\\ z_2 - p_z\\end{bmatrix}$\n",
    "\n",
    "Now, we write the equation of the plane:\n",
    "\n",
    "$\\begin{bmatrix} n \\\\ o \\\\ p\\end{bmatrix}=\\begin{bmatrix} x_2 - p_x \\\\  y_2 - p_y \\\\ z_2 - p_z\\end{bmatrix}$\n",
    "\n",
    "$\\begin{bmatrix} i \\\\ j \\\\ k\\end{bmatrix}=cam(a)=\\begin{bmatrix} (x_2 - p_x)a + p_x \\\\  (y_2 - p_y)a + p_y \\\\ (z_2 - p_z)a + p_z\\end{bmatrix}$\n",
    "\n",
    "$nx + oy + pz = ni + oj + pk$\n",
    "\n",
    "$(x_2 - p_x)x + (y_2 - p_y)y + (z_2 - p_z)z = a((x_2 - p_x)^2 + (y_2 - p_y)^2 + (z_2 - p_z)^2) - 3(p_x^2 + p_y^2 + p_z^2) + x_2(p_x + p_y + p_z)$\n",
    "\n",
    "The expression $(x_2 - p_x)^2 + (y_2 - p_y)^2 + (z_2 - p_z)^2$ is equal to the square of the distance between $p$ and $p_2$. This distance is 1, so the square is also 1. We can simplify the plane equation with this information.\n",
    "\n",
    "$(x_2 - p_x)x + (y_2 - p_y)y + (z_2 - p_z)z = a - 3(p_x^2 + p_y^2 + p_z^2) + x_2(p_x + p_y + p_z)$\n",
    "\n",
    "From now on, I will refer to this plane as $P$."
   ]
  },
  {
   "cell_type": "markdown",
   "metadata": {},
   "source": [
    "#### Determining what the $a$ value should be for a specific point ####"
   ]
  },
  {
   "cell_type": "markdown",
   "metadata": {},
   "source": [
    "We should keep in mind that the whole reason we wrote an equation for the line extending from the camera and the plane orthogonal to that line and containing a point on it is to find a plane that contains a point on $cam(a)$, the four frame points at that $a$ value, *and* a given point. Once these are all on the same plane, we can determine where the given point is in relation to the four frame points, which will allow us to plot in in 2D. The given point cannot change, but the value of $a$ can, so if we are to find the plane that contains all of the aforementioned points, we must solve for $a$ first. We can do this by plugging the given point, $e$,  into the plane equation and then isolating $a$.\n",
    "\n",
    "$a = (x_2 - p_x)e_x + (y_2 - p_y)e_y + (z_2 - p_z)e_z + 3(p_x^2 + p_y^2 + p_z^2) - x_2(p_x + p_y + p_z)$"
   ]
  },
  {
   "cell_type": "markdown",
   "metadata": {},
   "source": [
    "## Section --: The Corners of the Frame ##"
   ]
  },
  {
   "cell_type": "markdown",
   "metadata": {},
   "source": [
    "#### Describing the frame ####"
   ]
  },
  {
   "cell_type": "markdown",
   "metadata": {},
   "source": [
    "Once we have the equation for the plane, we must determine where the corners of the frame lie on that point. As $a$ increases, the euclidean distance between $cam(a)$ and each of the corners will grow proportionally. This makes sense intuitively. Imagine that you are flying a drone over an ocean with the camera pointing straight down. The area of ocean that the camera captures is far greater when the camera is 100 meters above the surface than when the camera is only 10 meters above. Figure -- shows snapshots of the frame at different values of $a$. Notice that the size of the frames increases proportionally with $a$, such that if you took a snapshot for *every* $0 < a < c$ where $c\\in\\R$, you would end up with a rectangular-based prism."
   ]
  },
  {
   "cell_type": "markdown",
   "metadata": {},
   "source": [
    "**Figure __:** How the frame expands as $a$ increases.\n",
    "\n",
    "![image](C:\\Users\\Jeremy\\Desktop\\math-IA\\images\\expanding-frame.jpg)"
   ]
  },
  {
   "cell_type": "markdown",
   "metadata": {},
   "source": [
    "$\\phi_x$ and $\\phi_y$ represent the \"angles of perception\" of the camera. "
   ]
  },
  {
   "cell_type": "markdown",
   "metadata": {},
   "source": [
    "#### Determining the dimensions of the frame ####"
   ]
  },
  {
   "cell_type": "markdown",
   "metadata": {},
   "source": [
    "$cornerdist$ (the distance from the center of the frame to one of its corners) will increase at a faster rate with respect to $a$ if $\\phi_x$ and $\\phi_y$ are larger. Figure -- shows how the angles of perception affect the aspect ratio of the camera."
   ]
  },
  {
   "cell_type": "markdown",
   "metadata": {},
   "source": [
    "**Figure __:** $\\phi_x$ and $\\phi_y$\n",
    "\n",
    "![image](C:\\Users\\Jeremy\\Desktop\\math-IA\\images\\frame-math-basis.jpg)"
   ]
  },
  {
   "cell_type": "markdown",
   "metadata": {},
   "source": [
    "Figure -- shows that if you know $l_x$ and $l_y$, then you can determine, $b$, which is the output of $cornerdist$.\n",
    "\n",
    "$b = \\sqrt{l_x^2 + l_y^2}$\n",
    "\n",
    "$l_x$ and $l_y$ can be found by:\n",
    "\n",
    "$l_x = a\\cos{\\phi_x}$\n",
    "\n",
    "$l_y = a\\cos{\\phi_y}$\n",
    "\n",
    "By substituting the expanded forms of $l_x$ and $l_y$, we can write $cornerdist$ as:\n",
    "\n",
    "$cornerdist(a, \\phi_x, \\phi_y)=\\sqrt{(a\\cos{\\phi_x})^2 + (a\\cos{\\phi_y})^2}$\n",
    "\n",
    "In addition, we can conclude that the frame is $2l_y$ units tall and $2l_x$ units wide."
   ]
  },
  {
   "cell_type": "markdown",
   "metadata": {},
   "source": [
    "#### Roll ####\n",
    "Now, we have a plane that the frame will lie on at any $a>0$ and a distance from a point on that plane that all of the corners of the frame will be. Thus, the possible locations for a corner of the frame at any $a>0$ is a circle with radius $cornerdist(a, \\phi_x, \\phi_y)$ that lies on the plane and has as its center $cam(a)$. The next step is to determine where each of the four corners of the frame lie on the plane at any $a>0$. To do this, we will need to introduce a new variable, $\\phi_r$, which stands for \"roll\". Rolling occurs along the $z$ axis of the camera. If you were to tilt your head from the left to the right, you would be performing a clockwise rolling operation (with a little bit of lateral translation). A head cannot do a $360\\degree$ roll while keeping the body upright because it is secured to the body by the neck. However, a camera *can* perform a $360\\degree$ rolling operation because it is not secured to anything that must rotate along with it. Rolling does not affect the equation for the line extending from the camera, $cam(a)$ because the axis that the rolling occurs on overlaps with $cam(a)$. In other words, when we roll the camera, we are rotating it about the line formed by $cam(a)$. What rolling affects is the orientation of the frame; rolling the camera can change where on the circle mentioned above each of the four frame points lies. When $\\phi_r=0$, the bottom and top of the frame are parallel with the plane formed by the $x$ and $z$ axes. Figure -- shows how changing $\\phi_r$ affects the rotation of the frame corners."
   ]
  },
  {
   "cell_type": "markdown",
   "metadata": {},
   "source": [
    "**Figure __:** How changing $\\phi_r$ affects the rotation of the frame corners.\n",
    "____Image_____"
   ]
  },
  {
   "cell_type": "markdown",
   "metadata": {},
   "source": [
    "#### The set of all possible frame points ####"
   ]
  },
  {
   "cell_type": "markdown",
   "metadata": {},
   "source": [
    "We know that the distance from $cam(a)$ to any frame point will always be equal to $cornerdist(a, \\phi_x, \\phi_y)$, and that each frame point will be on plane $P$. Thus, the set of all possible frame points is contained in a circle with $cam(a)$ as its center that is parallel to plane $P$. We can find the equation of this circle by finding two orthogonal unit vectors that are parallel with $P$.\n",
    "\n",
    "A unit vector that is parallel with $P$ must be orthogonal to the line that $P$ is orthogoal to. $P$ is orthogonal to $A$, but $A$ is parallel with the following unit vector which we derived earlier, which we can call $\\vec{a}$:\n",
    "\n",
    "$\\vec{a} = \\begin{bmatrix} x_2 - p_x \\\\  y_2 - p_y \\\\ z_2 - p_z\\end{bmatrix}$\n",
    "\n",
    "Two vectors that are orthogonal to each other must have a dot product that is equal to zero. Thus, an orthogonal vector $\\vec{v_0}$ must satisfy the equation:\n",
    "\n",
    "$v_{x0}a_x + v_{y0}a_y + v_{z0}a_z = 0$\n",
    "\n",
    "We can set two variables such as $v_x$ and $v_y$ equal to 1 and then solve for $v_z$.\n",
    "\n",
    "$v_{z0} = \\frac{-a_y - a_z}{a_z}$\n",
    "\n",
    "The magnitude of $v$ must be equal to 1, so we can solve for a scalar $h$ that satisfies the equation:\n",
    "\n",
    "$h\\lVert \\vec{v_0} \\rVert = 1$\n",
    "\n",
    "The product between $h$ and $\\vec{v_0}$ is the value of $\\vec{v}$, which is a unit vector parallel to plane $P$. The next step is to find a unit vector $\\vec{v'}$ that orthogonal to both $\\vec{v}$ and $\\vec{a}$. If $\\vec{a} = a_xi + a_yj + a_zk$ and $\\vec{v} = v_xi + v_yj + v_zk$, then this can be accomplished by finding the cross product between $\\vec{v}$ and $\\vec{a}$.\n",
    "\n",
    "$\\vec{v} \\times \\vec{a}$\n",
    "\n",
    "$\\Rightarrow det(\\begin{bmatrix} i & j & k \\\\ a_x & a_y & a_z \\\\ v_x & v_y & v_z \\end{bmatrix})$\n",
    "\n",
    "$\\Rightarrow det(\\begin{bmatrix} a_y & a_z \\\\ v_y & v_z \\end{bmatrix})i + det(\\begin{bmatrix} a_x & a_z \\\\ v_x & v_z \\end{bmatrix})j + det(\\begin{bmatrix} a_x & a_y \\\\ v_x & v_y \\end{bmatrix})k$\n",
    "\n",
    "$\\Rightarrow (v_za_y - a_zv_y)i + (v_za_x - v_xa_z)j + (v_ya_x - a_yv_x)k$\n",
    "\n",
    "$\\Rightarrow \\begin{bmatrix} v_za_y - a_zv_y \\\\ v_za_x - v_xa_z \\\\ v_ya_x - a_yv_x\\end{bmatrix} = \\vec{v'_0}$\n",
    "\n",
    "Again, the magnitude of $v'$ must be equal to 1, so:\n",
    "\n",
    "$\\vec{v'} = \\vec{v'_0}\\frac{1}{\\vec{v'_0}}$\n",
    "\n",
    "Now that we have two orthogonal unit vectors $\\vec{v}$ and $\\vec{v'}$ which are orthogonal to the plane $P$ and orthogonal to each other, we can write the equation for the circle, where $\\gamma$ is an angle and $r$ is equal to $cornerdist(a, \\phi_x, \\phi_y)$:\n",
    "\n",
    "$circle(\\gamma) = cam(a) + rv\\sin{\\gamma} + rv'\\cos{\\gamma} = \\begin{bmatrix} cam(a)_x + rv_x\\sin{\\gamma} + rv'_x\\cos{\\gamma} \\\\ cam(a)_y + rv_y\\sin{\\gamma} + rv'_y\\cos{\\gamma} \\\\cam(a)_z + rv_z\\sin{\\gamma} + rv'_z\\cos{\\gamma}\\end{bmatrix}$\n",
    "\n",
    "This formula is helpful because it will allow us to rotate each of the frame points by $\\phi_r$.\n"
   ]
  },
  {
   "cell_type": "markdown",
   "metadata": {},
   "source": [
    "#### Determining $circle(\\gamma_0)$ ####"
   ]
  },
  {
   "cell_type": "markdown",
   "metadata": {},
   "source": [
    "There are two values of $\\gamma$ between $0\\deg$ and $360\\deg$ which share characteristic: when they are plugged into $circle(\\gamma)$, they produce a point which forms a line with $cam(a)$ that is parallel to the xz plane. In a mathematical sense, this means that $circle(\\gamma)_y$ = $cam(a)_y$. One of these points is called $\\gamma_0$. $\\gamma_0$ satisfies the following system of inequalities:\n",
    "\n",
    "$circle(\\gamma_0 + 1)_y > circle(\\gamma_0)_y$ \n",
    "\n",
    "$circle(\\gamma_0 - 1)_y < circle(\\gamma_0)_y$ \n",
    "\n",
    "To find $\\gamma_0$, we must first find $circle(\\gamma_0)$, which satisfies the follwing system. \n",
    "\n",
    "$circle(\\gamma_0)_y = cam(a)_y$\n",
    "\n",
    "$\\lVert circle(\\gamma_0) - cam(a) \\rVert = r$\n",
    "\n",
    "$circle(\\gamma_0)$ could be found by rotating a point that is $r$ away from $p$ (with a y-value of $cam(a)_y$) about a vertical line intersecting with $p$ until the point is on $P$. If this resultant point does not satisfy the above system, then the point could be rotated by $180\\deg$ about a vertical line intersecting with $p$. So, a possible point for $circle(\\gamma_0)$ could be found by adjusting $\\theta_y$ such that the following term satisfies the equation for $P$.\n",
    "\n",
    "$circle(\\gamma_0)?=\\begin{bmatrix} r \\\\ cam(a)_y \\\\ 0 \\end{bmatrix}\\begin{bmatrix}\\cos{\\theta_{y}} & 0 & -\\sin{\\theta_{y}} \\\\ 0 & 1 & 0 \\\\ \\sin{\\theta_{y}} & 0 & \\cos{\\theta_{y}}\\end{bmatrix} + \\begin{bmatrix} cam(a)_x \\\\ 0 \\\\ cam(a)_z\\end{bmatrix}$\n",
    "\n",
    "We can foil this out to get a general formula for $circle(\\gamma_0)?$, which has two solutions:\n",
    "\n",
    "$circle(\\gamma_0)? = \\begin{bmatrix} r\\cos{\\theta_y}+cam(a)_x \\\\ cam(a)_y \\\\ r\\sin{\\theta_y} + cam(a)_z\\end{bmatrix}$\n",
    "\n",
    "Then, we can plug $circle(\\gamma_0)?$ into the plane equation and solve for $\\theta_y$.\n",
    "\n",
    "$(x_2 - p_x)(r\\cos{\\theta_y} + cam(a)_x) + (y_2 - p_y)cam(a)_y + (z_2 - p_z)(r\\sin{\\theta_y} + cam(a)_z) = a - 3(p_x^2 + p_y^2 + p_z^2) + x_2(p_x + p_y + p_z)$\n",
    "\n",
    "The trig identity $\\sin^2{\\theta_y} + \\cos^2{\\theta_y} = 1$ can be rearranged to isolate $\\cos{\\theta_y}$.\n",
    "\n",
    "$\\cos{\\theta_y} = \\sqrt{1 - \\sin^2{\\theta_y}}$\n",
    "\n",
    "This can be substituted back into the plane equation so that the only unknown term is $\\sin{\\theta_y}$\n",
    "\n",
    "$(x_2 - p_x)(r\\sqrt{1 - \\sin^2{\\theta_y}} + cam(a)_x) + (y_2 - p_y)cam(a)_y + (z_2 - p_z)(r\\sin{\\theta_y} + cam(a)_z) = a - 3(p_x^2 + p_y^2 + p_z^2) + x_2(p_x + p_y + p_z)$\n",
    "\n",
    "**If** $\\psi = a - 3(p_x^2 + p_y^2 + p_z^2) + x_2(p_x + p_y + p_z) - (y_2-p_y)cam(a)_y - cam(a_x)(x_2-p_x) - (z_2-p_z)cam(a)_z$ **and** $\\omega=\\sin{\\theta_y}$, **then:**\n",
    "\n",
    "$\\omega^2((x_2-p_x)^2 + r^2(z_2-p_z)^2) - \\omega(2r\\psi(z_2-p_z)) + (\\psi^2-r^2(x_2 - p_z)^2) = 0$\n",
    "\n",
    "Then, we can solve for $\\omega$ using the quadratic formula.\n",
    "\n",
    "$\\omega = \\frac{2r\\psi(z_2-p_z) \\pm \\sqrt{4r^2\\psi^2(z_2-p_z)^2 - 4((x_2-p_x)^2 + r^2(z_2-p_z)^2)(\\psi^2-r^2(x_2 - p_z)^2)}}{2((x_2-p_x)^2 + r^2(z_2-p_z)^2)}$\n",
    "\n",
    "This will give us two values, which makes sense because we are solving for both $\\mu_1$ and $\\mu_2$. Recall that $\\omega = \\sin{theta_y}$, so we can solve for $\\theta_y$ as:\n",
    "\n",
    "$\\theta_y = \\sin^{-1}{\\omega}$\n",
    "\n",
    "Then, we will have two values for $\\theta_y$, which can produce two $circle(\\gamma_0)?$ points when plugged into the equation defined previously:\n",
    "\n",
    "$circle(\\gamma_0)? = \\begin{bmatrix} r\\cos{\\theta_y}+cam(a)_x \\\\ cam(a)_y \\\\ r\\sin{\\theta_y} + cam(a)_z\\end{bmatrix}$\n",
    "\n",
    "These two $circle(\\gamma_0)?$ points can be tested in the system defined earlier. The point which satisfies that system is $circle(\\gamma_0)$."
   ]
  }
 ],
 "metadata": {
  "language_info": {
   "name": "python"
  },
  "orig_nbformat": 4
 },
 "nbformat": 4,
 "nbformat_minor": 2
}
