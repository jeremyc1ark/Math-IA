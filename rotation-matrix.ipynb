{
 "cells": [
  {
   "cell_type": "markdown",
   "metadata": {},
   "source": [
    "### The Mathematical Basis of Rotation in Two Dimensions ###"
   ]
  },
  {
   "cell_type": "markdown",
   "metadata": {},
   "source": [
    "To design a complex program, it is often useful to understand its constituent parts. In pursuing the goal of designing a system which can accurately portray rotation in three dimensions, it is important to understand how rotation can be portrayed in two dimensions. These concepts can later be extrapolated to the three dimensional model.\n",
    "\n",
    "Let us start with a reference frame consisting of two lines, $\\hat{x}$ and $\\hat{y}$, where $\\hat{x}$ and $\\hat{y}$ are orthogonal to each other.\n",
    "\n",
    "Within that reference frame, let there be a coordinate vector $\\vec{a}=\\begin{bmatrix}a_{x} \\\\ a_{y}\\end{bmatrix}$. The angle between $\\hat{x}$ and $\\vec{a}$ is $\\theta$, which can also be defined as $\\arcsin{\\frac{\\vec{a}_{y}}{b}}$.\n",
    "\n",
    "Using trigonometry, we can determine that $\\begin{bmatrix}a_{x} \\\\ a_{y}\\end{bmatrix}=\\begin{bmatrix}\\|\\vec{a}\\|\\cos{\\theta} \\\\ \\|\\vec{a}\\|\\sin{\\theta}\\end{bmatrix}$. This equation is true because $\\cos{d}$ is equal to the x-coordinate of the tip of a vector in a unit circle, where $d$ is equal to the counter clockwise angle from the x-axis. Similarly, $\\sin{d}$ is equal to the y-coordinate of the tip of a vector in a unit circle. Usually, the vector cannot be contained within a unit circle (its magnitude is not equal to 1), which is why both terms are have $r$ as coefficients. This scales the points such that the magnitude of the vector in polar form is the same as the magnitude in coordinate form.\n",
    "\n",
    "Say that we want to rotate $\\vec{a}$ by $\\phi$ degrees to create a new vector called $\\vec{a}'$. Using the formula above, we can deduce that $\\vec{a}'=\\begin{bmatrix}\\|\\vec{a}\\|\\cos{(\\theta+\\phi)} \\\\ \\|\\vec{a}\\|\\sin{(\\theta+\\phi)}\\end{bmatrix}$. Figure __ shows what this might look like."
   ]
  },
  {
   "cell_type": "markdown",
   "metadata": {},
   "source": [
    "**Figure __:** A rotation in two dimensions.\n",
    "\n",
    "![image](C:\\Users\\Jeremy\\Desktop\\math-IA\\images\\2d-rotation.jpg)"
   ]
  },
  {
   "cell_type": "markdown",
   "metadata": {},
   "source": [
    "We know:\n",
    "* $\\sin{(x+y)}=\\sin{x}\\cos{y}+\\sin{y}\\cos{x}$\n",
    "* $\\cos{(x+y)}=\\cos{x}\\cos{y}-\\sin{x}\\sin{y}$\n",
    "\n",
    "Therefore, we can rewrite $\\begin{bmatrix}\\|\\vec{a}\\|\\cos{(\\theta+\\phi)} \\\\ \\|\\vec{a}\\|\\sin{(\\theta+\\phi)}\\end{bmatrix}$ as $\\begin{bmatrix}\\|\\vec{a}\\|\\cos{\\theta}\\cos{\\phi}-\\|\\vec{a}\\|\\sin{\\theta}\\sin{\\phi} \\\\ \\|\\vec{a}\\|\\sin{\\theta}\\cos{\\phi}+\\|\\vec{a}\\|\\sin{\\phi}\\cos{\\theta}\\end{bmatrix}$.\n",
    "\n",
    "Using $\\begin{bmatrix}a_{x} \\\\ a_{y}\\end{bmatrix}=\\begin{bmatrix}\\|\\vec{a}\\|\\cos{\\theta} \\\\ \\|\\vec{a}\\|\\sin{\\theta}\\end{bmatrix}$, we can rewrite the former again as $\\begin{bmatrix}a_{x}\\cos{\\phi}-a_{y}\\sin{\\phi} \\\\ a_{x}\\sin{\\phi}+a_{y}\\cos{\\phi}\\end{bmatrix}$. This can be rewritten into its simplest form: $\\begin{bmatrix}a_{x} \\\\ a_{y}\\end{bmatrix}\\begin{bmatrix}\\cos{\\phi} & -\\sin{\\phi} \\\\ \\sin{\\phi} & \\cos{\\phi}\\end{bmatrix}$. So, if one wants to rotate $\\vec{a}$ by $\\phi$ degrees, then $\\vec{a}'=\\vec{a}\\begin{bmatrix}\\cos{\\phi} & -\\sin{\\phi} \\\\ \\sin{\\phi} & \\cos{\\phi}\\end{bmatrix}$. The coefficient of $\\vec{a}$ in this formula is known as the rotation matrix. $\\begin{bmatrix}\\cos{\\phi} & -\\sin{\\phi} \\\\ \\sin{\\phi} & \\cos{\\phi}\\end{bmatrix}$ is the rotation matrix about the origin in two dimensions.\n"
   ]
  },
  {
   "cell_type": "markdown",
   "metadata": {},
   "source": [
    "### Calculating Resultant Coordinates of 3D Rotation Operations ###"
   ]
  },
  {
   "cell_type": "markdown",
   "metadata": {},
   "source": [
    "\n",
    "We can now establish the reference frame for a three dimensional model. This time, the reference frame will consist of three lines, otherwise known as axes: $x$, $y$, and $z$. Every axis is orthogonal to every other axis. Rotations in two dimensions always involve just one angle: $\\phi$. However, in three dimensions, vectors can be rotated with three angles, each one corresponding to an axis. For example, one might choose to rotate a vector $20\\degree$ about the $x$ axis, $40\\degree$ about the $y$ axis and $0\\degree$ about the $z$ axis. A rotation in three dimensions can therefore be represented with the vector:\n",
    "\n",
    "$\\begin{bmatrix}\\theta_{x} \\\\ \\theta_{y} \\\\ \\theta_{z}\\end{bmatrix}$\n",
    "\n",
    "Rotation around each of the axes requires its own rotation matrix. One can perform the full rotation by multiplying the vector by each of the rotation matrices.\n",
    "\n",
    "In the three dimensional reference frame, $\\vec{a}=\\begin{bmatrix}a_{x} \\\\ a_{y} \\\\ a_{z}\\end{bmatrix}$. If we want to rotate about the $x$ axis, then we want $a_{x}$ to remain constant and $a_{y}$ and $a_{z}$ to change. We can think of this rotation as happening in two dimensions since it remains on a single plane that is parallel to the $y$ and $z$ axes, and we can also think of the $x$ axis as being the origin of the rotation. If we want the coordinates on the $x$ axis to remain constant, we can fill in the values that would make that happen on the $x$ rotation matrix:\n",
    "\n",
    "$\\begin{bmatrix}1 & 0 & 0 \\\\ 0 & \\_ & \\_ \\\\ 0 & \\_ & \\_\\end{bmatrix}$\n",
    "\n",
    "This leaves four remaining values. Recall that the two dimensional rotation matrix also had four values, and that we are rotating along a two dimensional plane. This means that we can use the values from the two dimensional rotation matrix to fill in the remaining blank spots in this rotation matrix. So, the final rotation matrix for the $x$ axis in three dimensions is:\n",
    "\n",
    "$\\begin{bmatrix}1 & 0 & 0 \\\\ 0 & \\cos{\\theta_{x}} & -\\sin{\\theta_{x}} \\\\ 0 & \\sin{\\theta_{x}} & \\cos{\\theta_{x}}\\end{bmatrix}$\n",
    "\n",
    "We can apply the same principle to the remaining two axes. For the $y$ axis, this gives us: \n",
    "\n",
    "$\\begin{bmatrix}\\cos{\\theta_{y}} & 0 & -\\sin{\\theta_{y}} \\\\ 0 & 1 & 0 \\\\ \\sin{\\theta_{y}} & 0 & \\cos{\\theta_{y}}\\end{bmatrix}$. \n",
    "\n",
    "For the $z$ axis, this gives us:\n",
    "\n",
    "$\\begin{bmatrix}\\cos{\\theta_{z}} & -\\sin{\\theta_{z}} & 0 \\\\ \\sin{\\theta_{z}} & \\cos{\\theta_{z}} & 0 \\\\ 0 & 0 & 1\\end{bmatrix}$."
   ]
  },
  {
   "cell_type": "markdown",
   "metadata": {},
   "source": [
    "### Factors That Affect How a 3D Vector Space is Portrayed 2D ### "
   ]
  },
  {
   "cell_type": "markdown",
   "metadata": {},
   "source": [
    "We now have the ability to determine what the coordinates of a vector will be if it is rotated about a given axis by a given number of degrees. However, we still have no way to display the vector on a two dimensional surface which gives the illusion that we are seeing it in three dimensions. Although we instinctively feel that we are seeing the world in three dimensions, everything we percieve is actually in two dimensions. We can think of our eyes as cameras in that they exist in a three dimensional world, but display a two dimensional picture. Our goal is to replicate the illusion of the camera. The **first factor** that affects how a 3D vector space is portrayed in 2D is the angle from which the camera views the subject. Figure -- shows this."
   ]
  },
  {
   "cell_type": "markdown",
   "metadata": {},
   "source": [
    "**Figure __:** How perspective can change how a 3D vector space is portrayed in 2D.\n",
    "\n",
    "![image](C:\\Users\\Jeremy\\Desktop\\math-IA\\images\\perspective-example.png)"
   ]
  },
  {
   "cell_type": "markdown",
   "metadata": {},
   "source": [
    "Figure -- demonstrates that the number of pixels required to convey a 3D line in 2D changes depending on the angle that you view it from. Figure -- shows this mathematically using trigonometry."
   ]
  },
  {
   "cell_type": "markdown",
   "metadata": {},
   "source": [
    "**Figure __:** A simple example of 2D portrayal in 3D.\n",
    "\n",
    "![image](C:\\Users\\Jeremy\\Desktop\\math-IA\\images\\simple-3d-rotation.jpg)"
   ]
  },
  {
   "cell_type": "markdown",
   "metadata": {},
   "source": [
    "The figure above shows the cross-sectional view (what is shown on the screen) and the overhead view of a line spinning on another line in 3D. Because we know that $\\cos{\\theta}=\\frac{c}{h}$, where $h$ is the length of the hypotenuse, we can deduce that $c=h\\cos{\\theta}$. We also know that $\\cos{\\theta}$ can be negative and that there is no such thing as a negative distance, so we can modify this equation slightly by taking the absolute value of $\\cos{\\theta}$. This makes sense because the cross-sectional view of the line rotated $91\\degree$ would not be negative, but would instead be the same as the cross-sectional view of the line rotated $89\\degree$. So, the final formula would be  $c=h|\\cos{\\theta}|$. Figure __ shows what the value of $c$ would be given $h=6$."
   ]
  },
  {
   "cell_type": "markdown",
   "metadata": {},
   "source": [
    "**Figure __:** The value of $c$ from Figure __ given $h=6$.\n",
    "\n",
    "![image](C:\\Users\\Jeremy\\Desktop\\math-IA\\images\\distance-graph.png)"
   ]
  },
  {
   "cell_type": "markdown",
   "metadata": {},
   "source": [
    "However, this formula does not tell us how many pixels should be used to represent a particular line in two dimensions. This is because that number is also influenced by the distance of the camera from the line, which is the **second factor**. As the distance of the camera from a line increases, the number of pixels used to represent that pixel decreases. This is why we can see objects in higher resolution when we are closer to them.\n",
    "\n",
    "If the position of the point that we wish to convey is known, the first two factors can be represented by a vector $p=\\begin{bmatrix} x_p \\\\ y_p \\\\ z_p\\end{bmatrix}$, which represents the position of the camera.\n",
    "\n",
    "The **third factor** is the orientation of the camera. It is common knowledge that if you were to rotate a camera $180\\deg$, the contents of the display screen would change. The same principle applies in a computer simulation. For the purposes of this investigation, the orientation of the camera will be defined by two variables. The first variable is a an orientation vector $o=\\begin{bmatrix} \\theta_y \\\\ \\theta_p \\end{bmatrix}$. The subscripts $y$ and $p$ represent the words \"yaw\" and \"pitch,\" respectively. Yaw is the horizontal angle of the camera, while pitch is the vertical angle. The second variable is an angle $r$, which represents the \"roll\" of the camera. If you were to skewer the camera perpendicular to the glass on the lens, the roll represents the angle that the camera rotates about this skewer. Another way to think about roll is this: if an airplane were flying upside down, its roll would be $180\\deg$."
   ]
  },
  {
   "cell_type": "markdown",
   "metadata": {},
   "source": [
    "### Determining the General Function for the Camera's Line of Sight ###"
   ]
  },
  {
   "cell_type": "markdown",
   "metadata": {},
   "source": [
    "The first step involved in portraying a 3D vector space in 2D is to determine the camera's line of sight. \"Line of sight\" refers to the line that intersects with an is orthogonal to the surface of the camera's lens. On a 2D $x$ vs $y$ plot (the one we're accustomed to seeing), the equation for a line can be derived if we know two or more points that the line intersects with. If we have two points $p_1=(x_1, y_1)$ and $p_2=(x_2, y_2)$, then the slope of the line can be found by:\n",
    "\n",
    "$m=\\frac{y_2-y_1}{x_2-x_1}$\n",
    "\n",
    "Then, one of the points can be plugged into the slope-intercept form to find $b$:\n",
    "\n",
    "$y_1 = mx_1 + b \\Rightarrow b = y_1 - mx_1$\n",
    "\n",
    "If we just use $x_1$, $y_1$, $x_2$ and $y_2$, then the slope-intercept form looks like this:\n",
    "\n",
    "$y = \\frac{(y_2-y_1)(x - x_1)}{x_2-x_1} + y_1$\n",
    "\n",
    "A similar principle can be used to determine the equation of a line in 3D. However, for the purposes of our 3D line, the independent variable is the distance travelled along the line itself, which we will name $a$. The values of each of the axes are the dependent variables. The function for the camera's line of sight will be called $cam(a)$. If we are given two 3D points $p_1=\\begin{bmatrix} x_1 \\\\ y_1 \\\\ z_1\\end{bmatrix}$ and $p_2=\\begin{bmatrix} x_1 \\\\ y_1 \\\\ z_1\\end{bmatrix}$, then:\n",
    "\n",
    "$x = \\frac{(x_2-x_1)(a - a_1)}{a_2-a_1} + a_1$\n",
    "\n",
    "$y = \\frac{(y_2-y_1)(a - a_1)}{a_2-a_1} + a_1$\n",
    "\n",
    "$z = \\frac{(z_2-z_1)(a - a_1)}{a_2-a_1} + a_1$\n",
    "\n",
    "Notice that each axis has a different equation because the rate at which the value changes relative to $a$ varies between axes. We can turn this system of equations into one equation that represents the line in three dimensions by first isolating $a_1$:\n",
    "\n",
    "$a_1 = x - \\frac{(x_2-x_1)(a - a_1)}{a_2-a_1}$\n",
    "\n",
    "$a_1 = y - \\frac{(y_2-y_1)(a - a_1)}{a_2-a_1}$\n",
    "\n",
    "$a_1 = z - \\frac{(z_2-z_1)(a - a_1)}{a_2-a_1}$\n",
    "\n",
    "With these three seperate equations, we can write $cam(a)$ as:\n",
    "\n",
    "$cam(a) = \\begin{bmatrix}x - \\frac{(x_2-x_1)(a - a_1)}{a_2-a_1} \\\\ y - \\frac{(y_2-y_1)(a - a_1)}{a_2-a_1} \\\\ z - \\frac{(z_2-z_1)(a - a_1)}{a_2-a_1}\\end{bmatrix}$"
   ]
  },
  {
   "cell_type": "markdown",
   "metadata": {},
   "source": [
    "### Determining the Function for the Camera's Line of Sight Given Specific $o$ and $p$ Values ###"
   ]
  },
  {
   "cell_type": "markdown",
   "metadata": {},
   "source": [
    "Now that we have the general equation for the line in three dimensions, we must substitute variables that are neither dependent nor independent with numerical values. The variables in the equation that meet this criterion are $a_1$, $a_2$, and all of the variables in the points $p_1$ and $p_2$. Let us see which variables we already know and which variables we need.\n",
    "\n",
    "* We know that $a1$ will be zero since it is at the position of the camera.\n",
    "* We know that $p_1$ will be the position of the camera. In other words, if the position of the camera is $p$, then $p_1=p$.\n",
    "* We know that $a_2$ can be found by finding the euclidean distance between $p_1$ and $p_2$, but we cannot calculate it yet because we do not know $p_2$.\n",
    "\n",
    "Therefore, we need to find a value for $p_2$.\n",
    "\n",
    "Recall that the orientation vector is $o=\\begin{bmatrix} \\theta_y \\\\ \\theta_p \\end{bmatrix}$. $\\theta_y$ (yaw) changes the orientation about the $y$ axis. If you were to turn your head from left to right, you would be rotating along the yaw axis. This is a clockwise rotation, and the $\\theta_y$ value before the rotation would be less that the $\\theta_y$ value after the rotation. $\\theta_p$ (pitch) changes the orientation about the $x$ axis. If you were to bow your head, you would be rotating along the pitch axis. This is a clockwise rotation, so the $\\theta_p$ value would also increase in this situation. When $\\theta_y$ and $\\theta_p$ are both zero, $p_2=\\begin{bmatrix} x_p \\\\ y_p \\\\ z_p + 1 \\end{bmatrix}$. This means that the line of the camera is perpendicular to the plane formed by the $x$ and $y$ axes. If you were to plot every possible $p_2$ point (there are an infinite number), you would see a sphere with a radius of 1 unit around the position of the camera. Thus, using the rotation matrices defined earlier, we can find $p_2$ using the following equation.\n",
    "\n",
    "$p_2 = \\begin{bmatrix} 0 \\\\ 0 \\\\ 1 \\end{bmatrix}\\begin{bmatrix}\\cos{\\theta_{y}} & 0 & -\\sin{\\theta_{y}} \\\\ 0 & 1 & 0 \\\\ \\sin{\\theta_{y}} & 0 & \\cos{\\theta_{y}}\\end{bmatrix}\\begin{bmatrix}1 & 0 & 0 \\\\ 0 & \\cos{\\theta_{p}} & -\\sin{\\theta_{p}} \\\\ 0 & \\sin{\\theta_{p}} & \\cos{\\theta_{p}}\\end{bmatrix}+p$\n",
    "\n",
    "$\\begin{bmatrix} 0 \\\\ 0 \\\\ 1 \\end{bmatrix}$ represents what $p_2$ would be given $o=\\begin{bmatrix} 0 \\\\ 0 \\end{bmatrix}$ and $p=\\begin{bmatrix} 0 \\\\ 0 \\\\ 0 \\end{bmatrix}$. The rotation matrices that it is a coefficient of rotate this point along the yaw ($y$) and pitch ($x$) axes. We start at the origin because the rotation matrices that we are using are meant for rotation about the axes of the vector space rather than the axes of the camera. The product of the rotation matrices and the position of the camera would put $p_2$ on the surface of a sphere with the origin as its center, which we do not want. The product of the rotation matrices and the origin point does this also, but it can be translated to the proper position by adding $p$ to it. Figure -- visually shows how the operation above works."
   ]
  },
  {
   "cell_type": "markdown",
   "metadata": {},
   "source": [
    "**Figure __:** Visual representation of how the above operation works."
   ]
  },
  {
   "cell_type": "markdown",
   "metadata": {},
   "source": [
    "Because we now have $p_2$, we can calculate $a_2$ by finding the euclidean distance between $p_1$ and $p_2$:\n",
    "\n",
    "$a_2 = \\sqrt{(x_2 - x_1)^2 + (y_2 - y_1)^2 + (z_2 - z_1)^2}$\n",
    "\n",
    "We now have definitions for all the variables in $cam(a)$ that are not independent or dependent. This means that if we were given a real position and orientation for a camera, we would be able to determine the equation for the line of sight for that particular camera."
   ]
  },
  {
   "cell_type": "markdown",
   "metadata": {},
   "source": [
    "### Finding the frame for any $a>0$ ###"
   ]
  },
  {
   "cell_type": "markdown",
   "metadata": {},
   "source": [
    "The frame of the camera is defined by four linear functions\n",
    "To find the four equations that represent the corners of the frame of the camera, we can imagine at any point along $cam(a)$ a rectangle which has sides than grow linearly in relation to $a$, which is orthogonal to the equation of $cam(a)$, and which forms a plane with the point. We could write this rectangle as an function $rect(a)$, which returns four points that represent the corners of the rectangle at a given point $a$. The rate at which the sides grow is dependent on the vertical and horizontal angles of perception. If you were to take a snapshots of what the rectangle looks like at different $a$ values and overlap all of the snapshots, it would look like a rectangular-based prism."
   ]
  },
  {
   "cell_type": "markdown",
   "metadata": {},
   "source": [
    "**Figure __:** How the frame expands as $a$ increases.\n",
    "\n",
    "![image](C:\\Users\\Jeremy\\Desktop\\math-IA\\images\\expanding-frame.jpg)"
   ]
  },
  {
   "cell_type": "markdown",
   "metadata": {},
   "source": [
    "It is useful to imagine the frame of the camera in this way because if we are given a random point in the vector space, we can find the $a$ value at which $cam(a)$, the random point, and all of the points in the rectangle form a plane. We can normalize the plane to make the math a bit more straightforward and then determine whether the random point is within the bounds of the rectangle. If it is, we can go a step further by determining where on the plane the random point lies in relation to the four corners, and using this information to determine where the point should go on the screen.\n",
    "\n",
    "To derive $rect(a)$, we first need a way to find a plane that is orthogonal to a given point on a line. If we are given a line which passes through both the origin and a point $\\begin{bmatrix} n \\\\ o \\\\ p \\end{bmatrix}$, in addition to a point $\\begin{bmatrix} i \\\\ j \\\\ k \\end{bmatrix}$, then a plane which contains the point $\\begin{bmatrix} i \\\\ j \\\\ k \\end{bmatrix}$ and is is orthogonal to the line has the equation: \n",
    "\n",
    "$nx + oy + pz = ni + oj + pk$\n",
    "\n",
    "For example, a plane which contains $\\begin{bmatrix} 20 \\\\ 9 \\\\ 16 \\end{bmatrix}$ and is orthogonal to a line which passes through the origin and $\\begin{bmatrix} 1 \\\\ 4 \\\\ 5 \\end{bmatrix}$ would have this equation:\n",
    "\n",
    "$x + 4y + 5z = 20 + 4 \\cdot 9 + 5 \\cdot 16 = 136$\n",
    "\n",
    "This can be simplified to:\n",
    "\n",
    "$x + 4y + 5z = 136$\n",
    "\n",
    "However, this process can be simplified even further because the point on the plane is the same point through which the perpendicular line passes. In other words:\n",
    "\n",
    "$\\begin{bmatrix} n \\\\ o \\\\ p \\end{bmatrix}=\\begin{bmatrix} i \\\\ j \\\\ k \\end{bmatrix}$\n",
    "\n",
    "This means that the general equation for the plane could be rewritten as:\n",
    "\n",
    "$nx + oy + pz = n^{2} + o^{2} + p^{2}$\n",
    "\n",
    "We can now determine for any $a\\in\\R$ the plane on which the resultant rectangle will lie. The next step is to determine how far away from  $\\begin{bmatrix} n \\\\ o \\\\ p \\end{bmatrix}$ each of the corners of the rectangle is for any $a\\in\\R$. This distance will be the same for all four corners because the center of a rectangle is equally far from all of its corners by definition. However, the distance will change with $a$ because the size of the rectangle, and therefore the distance from the center to the corners, changes with $a$. We can define define this distance as $cornerdist(a, \\theta_x, \\theta_y)$, where $\\theta_x$ and $\\theta_y$ are the horizontal and vertical angles of perception, respectively. "
   ]
  },
  {
   "cell_type": "markdown",
   "metadata": {},
   "source": []
  }
 ],
 "metadata": {
  "language_info": {
   "name": "python"
  },
  "orig_nbformat": 4
 },
 "nbformat": 4,
 "nbformat_minor": 2
}
