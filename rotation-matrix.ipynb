{
 "cells": [
  {
   "cell_type": "markdown",
   "metadata": {},
   "source": [
    "## The Mathematical Basis of Rotation in Two Dimensions ##"
   ]
  },
  {
   "cell_type": "markdown",
   "metadata": {},
   "source": [
    "To design a complex program, it is often useful to understand its constituent parts. In pursuing the goal of designing a system which can accurately portray rotation in three dimensions, it is important to understand how rotation can be portrayed in two dimensions. These concepts can later be extrapolated to the three dimensional model.\n",
    "\n",
    "Let us start with a reference frame consisting of two lines, $\\hat{x}$ and $\\hat{y}$, where $\\hat{x}$ and $\\hat{y}$ are orthogonal to each other.\n",
    "\n",
    "Within that reference frame, let there be a coordinate vector $\\vec{a}=\\begin{bmatrix}a_{x} \\\\ a_{y}\\end{bmatrix}$. The angle between $\\hat{x}$ and $\\vec{a}$ is $\\theta$, which can also be defined as $\\arcsin{\\frac{\\vec{a}_{y}}{b}}$.\n",
    "\n",
    "Using trigonometry, we can determine that $\\begin{bmatrix}a_{x} \\\\ a_{y}\\end{bmatrix}=\\begin{bmatrix}\\|\\vec{a}\\|\\cos{\\theta} \\\\ \\|\\vec{a}\\|\\sin{\\theta}\\end{bmatrix}$. This equation is true because $\\cos{d}$ is equal to the x-coordinate of the tip of a vector in a unit circle, where $d$ is equal to the counter clockwise angle from the x-axis. Similarly, $\\sin{d}$ is equal to the y-coordinate of the tip of a vector in a unit circle. Usually, the vector cannot be contained within a unit circle (its magnitude is not equal to 1), which is why both terms are have $r$ as coefficients. This scales the points such that the magnitude of the vector in polar form is the same as the magnitude in coordinate form.\n",
    "\n",
    "Say that we want to rotate $\\vec{a}$ by $\\phi$ degrees to create a new vector called $\\vec{a}'$. Using the formula above, we can deduce that $\\vec{a}'=\\begin{bmatrix}\\|\\vec{a}\\|\\cos{(\\theta+\\phi)} \\\\ \\|\\vec{a}\\|\\sin{(\\theta+\\phi)}\\end{bmatrix}$. Figure __ shows what this might look like."
   ]
  },
  {
   "cell_type": "markdown",
   "metadata": {},
   "source": [
    "**Figure __:** A rotation in two dimensions.\n",
    "\n",
    "![image](C:\\Users\\Jeremy\\Desktop\\math-IA\\images\\2d-rotation.jpg)"
   ]
  },
  {
   "cell_type": "markdown",
   "metadata": {},
   "source": [
    "We know:\n",
    "* $\\sin{(x+y)}=\\sin{x}\\cos{y}+\\sin{y}\\cos{x}$\n",
    "* $\\cos{(x+y)}=\\cos{x}\\cos{y}-\\sin{x}\\sin{y}$\n",
    "\n",
    "Therefore, we can rewrite $\\begin{bmatrix}\\|\\vec{a}\\|\\cos{(\\theta+\\phi)} \\\\ \\|\\vec{a}\\|\\sin{(\\theta+\\phi)}\\end{bmatrix}$ as $\\begin{bmatrix}\\|\\vec{a}\\|\\cos{\\theta}\\cos{\\phi}-\\|\\vec{a}\\|\\sin{\\theta}\\sin{\\phi} \\\\ \\|\\vec{a}\\|\\sin{\\theta}\\cos{\\phi}+\\|\\vec{a}\\|\\sin{\\phi}\\cos{\\theta}\\end{bmatrix}$.\n",
    "\n",
    "Using $\\begin{bmatrix}a_{x} \\\\ a_{y}\\end{bmatrix}=\\begin{bmatrix}\\|\\vec{a}\\|\\cos{\\theta} \\\\ \\|\\vec{a}\\|\\sin{\\theta}\\end{bmatrix}$, we can rewrite the former again as $\\begin{bmatrix}a_{x}\\cos{\\phi}-a_{y}\\sin{\\phi} \\\\ a_{x}\\sin{\\phi}+a_{y}\\cos{\\phi}\\end{bmatrix}$. This can be rewritten into its simplest form: $\\begin{bmatrix}a_{x} \\\\ a_{y}\\end{bmatrix}\\begin{bmatrix}\\cos{\\phi} & -\\sin{\\phi} \\\\ \\sin{\\phi} & \\cos{\\phi}\\end{bmatrix}$. So, if one wants to rotate $\\vec{a}$ by $\\phi$ degrees, then $\\vec{a}'=\\vec{a}\\begin{bmatrix}\\cos{\\phi} & -\\sin{\\phi} \\\\ \\sin{\\phi} & \\cos{\\phi}\\end{bmatrix}$. The coefficient of $\\vec{a}$ in this formula is known as the rotation matrix. $\\begin{bmatrix}\\cos{\\phi} & -\\sin{\\phi} \\\\ \\sin{\\phi} & \\cos{\\phi}\\end{bmatrix}$ is the rotation matrix about the origin in two dimensions.\n"
   ]
  },
  {
   "cell_type": "markdown",
   "metadata": {},
   "source": [
    "## Calculating Resultant Coordinates of 3D Rotation Operations ##"
   ]
  },
  {
   "cell_type": "markdown",
   "metadata": {},
   "source": [
    "\n",
    "We can now establish the reference frame for a three dimensional model. This time, the reference frame will consist of three lines, otherwise known as axes: $x$, $y$, and $z$. Every axis is orthogonal to every other axis. Rotations in two dimensions always involve just one angle: $\\phi$. However, in three dimensions, vectors can be rotated with three angles, each one corresponding to an axis. For example, one might choose to rotate a vector $20\\degree$ about the $x$ axis, $40\\degree$ about the $y$ axis and $0\\degree$ about the $z$ axis. A rotation in three dimensions can therefore be represented with the vector:\n",
    "\n",
    "$\\begin{bmatrix}\\theta_{x} \\\\ \\theta_{y} \\\\ \\theta_{z}\\end{bmatrix}$\n",
    "\n",
    "Rotation around each of the axes requires its own rotation matrix. One can perform the full rotation by multiplying the vector by each of the rotation matrices.\n",
    "\n",
    "In the three dimensional reference frame, $\\vec{a}=\\begin{bmatrix}a_{x} \\\\ a_{y} \\\\ a_{z}\\end{bmatrix}$. If we want to rotate about the $x$ axis, then we want $a_{x}$ to remain constant and $a_{y}$ and $a_{z}$ to change. We can think of this rotation as happening in two dimensions since it remains on a single plane that is parallel to the $y$ and $z$ axes, and we can also think of the $x$ axis as being the origin of the rotation. If we want the coordinates on the $x$ axis to remain constant, we can fill in the values that would make that happen on the $x$ rotation matrix:\n",
    "\n",
    "$\\begin{bmatrix}1 & 0 & 0 \\\\ 0 & \\_ & \\_ \\\\ 0 & \\_ & \\_\\end{bmatrix}$\n",
    "\n",
    "This leaves four remaining values. Recall that the two dimensional rotation matrix also had four values, and that we are rotating along a two dimensional plane. This means that we can use the values from the two dimensional rotation matrix to fill in the remaining blank spots in this rotation matrix. So, the final rotation matrix for the $x$ axis in three dimensions is:\n",
    "\n",
    "$\\begin{bmatrix}1 & 0 & 0 \\\\ 0 & \\cos{\\theta_{x}} & -\\sin{\\theta_{x}} \\\\ 0 & \\sin{\\theta_{x}} & \\cos{\\theta_{x}}\\end{bmatrix}$\n",
    "\n",
    "We can apply the same principle to the remaining two axes. For the $y$ axis, this gives us: \n",
    "\n",
    "$\\begin{bmatrix}\\cos{\\theta_{y}} & 0 & -\\sin{\\theta_{y}} \\\\ 0 & 1 & 0 \\\\ \\sin{\\theta_{y}} & 0 & \\cos{\\theta_{y}}\\end{bmatrix}$. \n",
    "\n",
    "For the $z$ axis, this gives us:\n",
    "\n",
    "$\\begin{bmatrix}\\cos{\\theta_{z}} & -\\sin{\\theta_{z}} & 0 \\\\ \\sin{\\theta_{z}} & \\cos{\\theta_{z}} & 0 \\\\ 0 & 0 & 1\\end{bmatrix}$."
   ]
  },
  {
   "cell_type": "markdown",
   "metadata": {},
   "source": [
    "## Factors That Affect How a 3D Vector Space is Portrayed 2D ## "
   ]
  },
  {
   "cell_type": "markdown",
   "metadata": {},
   "source": [
    "We now have the ability to determine what the coordinates of a vector will be if it is rotated about a given axis by a given number of degrees. However, we still have no way to display the vector on a two dimensional surface which gives the illusion that we are seeing it in three dimensions. Although we instinctively feel that we are seeing the world in three dimensions, everything we percieve is actually in two dimensions. We can think of our eyes as cameras in that they exist in a three dimensional world, but display a two dimensional picture. Our goal is to replicate the illusion of the camera. The **first factor** that affects how a 3D vector space is portrayed in 2D is the angle from which the camera views the subject."
   ]
  },
  {
   "cell_type": "markdown",
   "metadata": {},
   "source": [
    "**Figure __:** How perspective can change how a 3D vector space is portrayed in 2D.\n",
    "\n",
    "![image](C:\\Users\\Jeremy\\Desktop\\math-IA\\images\\perspective-example.png)"
   ]
  },
  {
   "cell_type": "markdown",
   "metadata": {},
   "source": [
    "Figure __ shows that the number of pixels required to convey a distance changes depending on the angle from which it is viewed. The number of pixels required is the largest when the viewpoint is perpendicular to the surface and smallest when the viewpoint is parallel to the surface. We can define how the 2D portayal of a 3D vector space changes using mathematics. Figure __ demonstrates a very simple example of 2D portrayal of a 3D vector space."
   ]
  },
  {
   "cell_type": "markdown",
   "metadata": {},
   "source": [
    "**Figure __:** A simple example of 2D portrayal in 3D.\n",
    "\n",
    "![image](C:\\Users\\Jeremy\\Desktop\\math-IA\\images\\simple-3d-rotation.jpg)"
   ]
  },
  {
   "cell_type": "markdown",
   "metadata": {},
   "source": [
    "The figure above shows the cross-sectional view (what is shown on the screen) and the overhead view of a line spinning on another line in 3D. Because we know that $\\cos{\\theta}=\\frac{c}{h}$, where $h$ is the length of the hypotenuse, we can deduce that $c=h\\cos{\\theta}$. We also know that $\\cos{\\theta}$ can be negative and that there is no such thing as a negative distance, so we can modify this equation slightly by taking the absolute value of $\\cos{\\theta}$. This makes sense because the cross-sectional view of the line rotated $91\\degree$ would not be negative, but would instead be the same as the cross-sectional view of the line rotated $89\\degree$. So, the final formula would be  $c=h|\\cos{\\theta}|$. Figure __ shows what the value of $c$ would be given $h=6$."
   ]
  },
  {
   "cell_type": "markdown",
   "metadata": {},
   "source": [
    "**Figure __:** The value of $c$ from Figure __ given $h=6$.\n",
    "\n",
    "![image](C:\\Users\\Jeremy\\Desktop\\math-IA\\images\\distance-graph.png)"
   ]
  },
  {
   "cell_type": "markdown",
   "metadata": {},
   "source": [
    "However, this formula does not tell us how many pixels should be used to represent a particular line in two dimensions. This is because that number is also influenced by the distance of the camera from the line, which is the **second obstacle**. As the distance of the camera from a line increases, the number of pixels used to represent that pixel decreases. This is why we can see objects in higher resolution when we are closer to them.\n",
    "\n",
    "If the position of the point that we wish to convey is known, the first two factors can be represented by a vector $p=\\begin{bmatrix} x_p \\\\ y_p \\\\ z_p\\end{bmatrix}$, which represents the position of the camera.\n",
    "\n",
    "The **third factor** is the rotation of the camera. It is common knowledge that if you were to rotate a camera $180\\deg$, the contents of the display screen would change. The same principle applies in a computer simulation. For the purposes of this investigation, the orientation of the camera will be defined by two variables. The first variable is a vector $o=\\begin{bmatrix} \\theta_x \\\\ \\theta_y \\\\ \\theta_z \\end{bmatrix}$. Each of the angles in the vector represents the angle that the camera is skewed by along each axis. We will go into more detail about $o$ later. The second variable is an angle $r$, which represents the \"roll\" of the camera. If you were to skewer the camera perpendicular to the glass on the lens, the roll represents the angle that the camera rotates about this skewer. Another way to think about roll is this: if you were to go from a normal standing position to a handstand, your roll would be $180\\deg$."
   ]
  },
  {
   "cell_type": "markdown",
   "metadata": {},
   "source": [
    "## Finding the Function of the Camera's Line of Sight ##"
   ]
  },
  {
   "cell_type": "markdown",
   "metadata": {},
   "source": [
    "The first step involved in portraying a 3D vector space in 2D is to determine the camera's line of sight. \"Line of signt\" refers to the line that intersects with an is orthogonal to the surface of the camera's lens. To determine the camera's line of sight, we need $p$ and $o$. \n",
    "* The vertical and horizontal angles of perception, combined with the orientation of the camera relative to the origin, allow us to determine whether the point is within the frame. If it is in the frame, these data help us determine where on the screen the point should be, and what the distance between the point and the origin should be."
   ]
  },
  {
   "cell_type": "markdown",
   "metadata": {},
   "source": [
    "**Information about camera orientation**\n",
    "As mentioned earlier, knowing the camera orientation is important because it allows us to determine whether or not the point is on the screen. Ultimately, the final test to see whether a point is on the screen comes down to ensuring that it is within the bounds of several linear functions that collectively comprise the mathematical basis of the rectangular-based pyramid described earlier.\n",
    "There are many different ways that one could conceivebly represent the data for camera orientation. For the purposes of this investigation, the camera orientation will be represented by a vector four variables long. The first three variables, $\\theta_x$, $\\theta_y$, and $\\theta_z$ represent the \"degree of deviance\" along each of their respective axes. If all of three of these variables are equivalent to zero, then it means that a line orthogonal to the surface of the camera would eventually intersect with the origin, which means that the camera is pointed directly at the origin, and that the origin would be in the center of the frame. If $\\theta_x$ were equal to $+20\\degree$, then it means that when\n",
    "\n",
    "For example, let us assume that the degree of deviance for the x-axis is $\\theta$ degrees and the euclidian distance between the camera and the origin is $a$ units. A third point, $B$ (with the camera and origin representing the first two points), can be found by skewing the euclidian distance line by $\\theta$ degrees such that if it were extended to infinity, it would intersect with the x-axis. $B$ is the point at which this new line intersects with the x-axis. These three points form a two-dimensional triangular plane, which is shown in Figure __."
   ]
  },
  {
   "cell_type": "markdown",
   "metadata": {},
   "source": [
    "**Figure __:** Diagram showing the deviance along one axis.\n",
    "\n",
    "![image](C:\\Users\\Jeremy\\Desktop\\math-IA\\images\\skewed-axis.jpg)"
   ]
  },
  {
   "cell_type": "markdown",
   "metadata": {},
   "source": [
    "Suppose that we have a camera orientation\n",
    "If we have a camera orientation vector with three variables each representing the degree of deviance from the origin along one axis, then we can determine the equation of the line that runs orthogonal to the lens of the camera, which we will abbreviate as $cam(a)$, where $a$ is the euclidian distance from the camera. Once we have this equation, we can find the four equations that represent the corners of the frame of of the camera.\n",
    "To find the four equations that represent the corners of the frame of the camera, we can imagine at any point along $cam(a)$ a rectangle which has sides than grow linearly in relation to $a$, which is orthogonal to the equation of $cam(a)$, and which forms a plane with the point. We could write this rectangle as an function $rect(a)$, which returns four points that represent the corners of the rectangle at a given point $a$. The rate at which the sides grow is dependent on the vertical and horizontal angles of perception. If you were to take a snapshots of what the rectangle looks like at different $a$ values and overlap all of the snapshots, it would look like the rectangular-based prism described earlier."
   ]
  },
  {
   "cell_type": "markdown",
   "metadata": {},
   "source": [
    "**Figure __:** How the frame expands as $a$ increases.\n",
    "\n",
    "![image](C:\\Users\\Jeremy\\Desktop\\math-IA\\images\\expanding-frame.jpg)"
   ]
  },
  {
   "cell_type": "markdown",
   "metadata": {},
   "source": [
    "It is useful to imagine the frame of the camera in this way because if we are given a random point in the vector space, we can find the $a$ value at which $cam(a)$, the random point, and all of the points in the rectangle form a plane. We can normalize the plane to make the math a bit more straightforward and then determine whether the random point is within the bounds of the rectangle. If it is, we can go a step further by determining where on the plane the random point lies in relation to the four corners, and using this information to determine where the point should go on the screen.\n",
    "\n",
    "To derive $rect(a)$, we first need a way to find a plane that is orthogonal to a given point on a line. If we are given a line which passes through both the origin and a point $\\begin{bmatrix} n \\\\ o \\\\ p \\end{bmatrix}$, in addition to a point $\\begin{bmatrix} i \\\\ j \\\\ k \\end{bmatrix}$, then a plane which contains the point $\\begin{bmatrix} i \\\\ j \\\\ k \\end{bmatrix}$ and is is orthogonal to the line has the equation: \n",
    "\n",
    "$nx + oy + pz = ni + oj + pk$\n",
    "\n",
    "For example, a plane which contains $\\begin{bmatrix} 20 \\\\ 9 \\\\ 16 \\end{bmatrix}$ and is orthogonal to a line which passes through the origin and $\\begin{bmatrix} 1 \\\\ 4 \\\\ 5 \\end{bmatrix}$ would have this equation:\n",
    "\n",
    "$x + 4y + 5z = 20 + 4 \\cdot 9 + 5 \\cdot 16 = 136$\n",
    "\n",
    "This can be simplified to:\n",
    "\n",
    "$x + 4y + 5z = 136$\n",
    "\n",
    "However, this process can be simplified even further because the point on the plane is the same point through which the perpendicular line passes in this particualar case. In other words:\n",
    "\n",
    "$\\begin{bmatrix} n \\\\ o \\\\ p \\end{bmatrix}=\\begin{bmatrix} i \\\\ j \\\\ k \\end{bmatrix}$\n",
    "\n",
    "This means that the general equation for the plane could be rewritten as:\n",
    "\n",
    "$nx + oy + pz = n^{2} + o^{2} + p^{2}$\n",
    "\n",
    "We can now determine for any $a\\in\\R$ the plane on which the resultant rectangle will lie. The next step is to determine how far away from  $\\begin{bmatrix} n \\\\ o \\\\ p \\end{bmatrix}$ each of the corners of the rectangle is for any $a\\in\\R$. This distance will be the same for all four corners because the center of a rectangle is equally far from all of its corners by definition. However, the distance will change with $a$ because the size of the rectangle, and therefore the distance from the center to the corners, changes with $a$. We can define define this distance as $cornerdist(a, \\theta_x, \\theta_y)$, where $\\theta_x$ and $\\theta_y$ are the horizontal and vertical angles of perception, respectively. "
   ]
  },
  {
   "cell_type": "markdown",
   "metadata": {},
   "source": []
  }
 ],
 "metadata": {
  "language_info": {
   "name": "python"
  },
  "orig_nbformat": 4
 },
 "nbformat": 4,
 "nbformat_minor": 2
}
