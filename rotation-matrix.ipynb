{
 "cells": [
  {
   "cell_type": "markdown",
   "metadata": {},
   "source": [
    "## Section --: Rotation Matrices ##\n",
    "#### The mathematical basis of rotation in two dimensions ####"
   ]
  },
  {
   "cell_type": "markdown",
   "metadata": {},
   "source": [
    "To design a complex program, it is often useful to understand its constituent parts. In pursuing the goal of designing a system which can accurately portray rotation in three dimensions, it is important to understand how rotation can be portrayed in two dimensions. These concepts can later be extrapolated to the three dimensional model.\n",
    "\n",
    "Let us start with a reference frame consisting of two lines, $\\hat{x}$ and $\\hat{y}$, where $\\hat{x}$ and $\\hat{y}$ are orthogonal to each other.\n",
    "\n",
    "Within that reference frame, let there be a coordinate vector $\\vec{a}=\\begin{bmatrix}a_{x} \\\\ a_{y}\\end{bmatrix}$. The angle between $\\hat{x}$ and $\\vec{a}$ is $\\theta$, which can also be defined as $\\arcsin{\\frac{\\vec{a}_{y}}{b}}$.\n",
    "\n",
    "Using trigonometry, we can determine that $\\begin{bmatrix}a_{x} \\\\ a_{y}\\end{bmatrix}=\\begin{bmatrix}\\|\\vec{a}\\|\\cos{\\theta} \\\\ \\|\\vec{a}\\|\\sin{\\theta}\\end{bmatrix}$. This equation is true because $\\cos{d}$ is equal to the x-coordinate of the tip of a vector in a unit circle, where $d$ is equal to the counter clockwise angle from the x-axis. Similarly, $\\sin{d}$ is equal to the y-coordinate of the tip of a vector in a unit circle. Usually, the vector cannot be contained within a unit circle (its magnitude is not equal to 1), which is why both terms are have $r$ as coefficients. This scales the points such that the magnitude of the vector in polar form is the same as the magnitude in coordinate form.\n",
    "\n",
    "Say that we want to rotate $\\vec{a}$ by $\\phi$ degrees to create a new vector called $\\vec{a}'$. Using the formula above, we can deduce that $\\vec{a}'=\\begin{bmatrix}\\|\\vec{a}\\|\\cos{(\\theta+\\phi)} \\\\ \\|\\vec{a}\\|\\sin{(\\theta+\\phi)}\\end{bmatrix}$. Figure __ shows what this might look like."
   ]
  },
  {
   "cell_type": "markdown",
   "metadata": {},
   "source": [
    "**Figure __:** A rotation in two dimensions.\n",
    "\n",
    "![image](C:\\Users\\Jeremy\\Desktop\\math-IA\\images\\2d-rotation.jpg)"
   ]
  },
  {
   "cell_type": "markdown",
   "metadata": {},
   "source": [
    "We know:\n",
    "* $\\sin{(x+y)}=\\sin{x}\\cos{y}+\\sin{y}\\cos{x}$\n",
    "* $\\cos{(x+y)}=\\cos{x}\\cos{y}-\\sin{x}\\sin{y}$\n",
    "\n",
    "Therefore, we can rewrite $\\begin{bmatrix}\\|\\vec{a}\\|\\cos{(\\theta+\\phi)} \\\\ \\|\\vec{a}\\|\\sin{(\\theta+\\phi)}\\end{bmatrix}$ as $\\begin{bmatrix}\\|\\vec{a}\\|\\cos{\\theta}\\cos{\\phi}-\\|\\vec{a}\\|\\sin{\\theta}\\sin{\\phi} \\\\ \\|\\vec{a}\\|\\sin{\\theta}\\cos{\\phi}+\\|\\vec{a}\\|\\sin{\\phi}\\cos{\\theta}\\end{bmatrix}$.\n",
    "\n",
    "Using $\\begin{bmatrix}a_{x} \\\\ a_{y}\\end{bmatrix}=\\begin{bmatrix}\\|\\vec{a}\\|\\cos{\\theta} \\\\ \\|\\vec{a}\\|\\sin{\\theta}\\end{bmatrix}$, we can rewrite the former again as $\\begin{bmatrix}a_{x}\\cos{\\phi}-a_{y}\\sin{\\phi} \\\\ a_{x}\\sin{\\phi}+a_{y}\\cos{\\phi}\\end{bmatrix}$. This can be rewritten into its simplest form: $\\begin{bmatrix}a_{x} \\\\ a_{y}\\end{bmatrix}\\begin{bmatrix}\\cos{\\phi} & -\\sin{\\phi} \\\\ \\sin{\\phi} & \\cos{\\phi}\\end{bmatrix}$. So, if one wants to rotate $\\vec{a}$ by $\\phi$ degrees, then $\\vec{a}'=\\vec{a}\\begin{bmatrix}\\cos{\\phi} & -\\sin{\\phi} \\\\ \\sin{\\phi} & \\cos{\\phi}\\end{bmatrix}$. The coefficient of $\\vec{a}$ in this formula is known as the rotation matrix. $\\begin{bmatrix}\\cos{\\phi} & -\\sin{\\phi} \\\\ \\sin{\\phi} & \\cos{\\phi}\\end{bmatrix}$ is the rotation matrix about the origin in two dimensions.\n"
   ]
  },
  {
   "cell_type": "markdown",
   "metadata": {},
   "source": [
    "#### Calculating resultant coordinates of 3D rotation operations ####"
   ]
  },
  {
   "cell_type": "markdown",
   "metadata": {},
   "source": [
    "\n",
    "We can now establish the reference frame for a three dimensional model. This time, the reference frame will consist of three lines, otherwise known as axes: $x$, $y$, and $z$. Every axis is orthogonal to every other axis. Rotations in two dimensions always involve just one angle: $\\phi$. However, in three dimensions, vectors can be rotated with three angles, each one corresponding to an axis. For example, one might choose to rotate a vector $20\\degree$ about the $x$ axis, $40\\degree$ about the $y$ axis and $0\\degree$ about the $z$ axis. A rotation in three dimensions can therefore be represented with the vector:\n",
    "\n",
    "$\\begin{bmatrix}\\theta_{x} \\\\ \\theta_{y} \\\\ \\theta_{z}\\end{bmatrix}$\n",
    "\n",
    "Rotation around each of the axes requires its own rotation matrix. One can perform the full rotation by multiplying the vector by each of the rotation matrices.\n",
    "\n",
    "In the three dimensional reference frame, $\\vec{a}=\\begin{bmatrix}a_{x} \\\\ a_{y} \\\\ a_{z}\\end{bmatrix}$. If we want to rotate about the $x$ axis, then we want $a_{x}$ to remain constant and $a_{y}$ and $a_{z}$ to change. We can think of this rotation as happening in two dimensions since it remains on a single plane that is parallel to the $y$ and $z$ axes, and we can also think of the $x$ axis as being the origin of the rotation. If we want the coordinates on the $x$ axis to remain constant, we can fill in the values that would make that happen on the $x$ rotation matrix:\n",
    "\n",
    "$\\begin{bmatrix}1 & 0 & 0 \\\\ 0 & \\_ & \\_ \\\\ 0 & \\_ & \\_\\end{bmatrix}$\n",
    "\n",
    "This leaves four remaining values. Recall that the two dimensional rotation matrix also had four values, and that we are rotating along a two dimensional plane. This means that we can use the values from the two dimensional rotation matrix to fill in the remaining blank spots in this rotation matrix. So, the final rotation matrix for the $x$ axis in three dimensions is:\n",
    "\n",
    "$\\begin{bmatrix}1 & 0 & 0 \\\\ 0 & \\cos{\\theta_{x}} & -\\sin{\\theta_{x}} \\\\ 0 & \\sin{\\theta_{x}} & \\cos{\\theta_{x}}\\end{bmatrix}$\n",
    "\n",
    "We can apply the same principle to the remaining two axes. For the $y$ axis, this gives us: \n",
    "\n",
    "$\\begin{bmatrix}\\cos{\\theta_{y}} & 0 & -\\sin{\\theta_{y}} \\\\ 0 & 1 & 0 \\\\ \\sin{\\theta_{y}} & 0 & \\cos{\\theta_{y}}\\end{bmatrix}$. \n",
    "\n",
    "For the $z$ axis, this gives us:\n",
    "\n",
    "$\\begin{bmatrix}\\cos{\\theta_{z}} & -\\sin{\\theta_{z}} & 0 \\\\ \\sin{\\theta_{z}} & \\cos{\\theta_{z}} & 0 \\\\ 0 & 0 & 1\\end{bmatrix}$."
   ]
  },
  {
   "cell_type": "markdown",
   "metadata": {},
   "source": [
    "#### Factors that affect how a 3D vector space is portrayed 2D #### "
   ]
  },
  {
   "cell_type": "markdown",
   "metadata": {},
   "source": [
    "We now have the ability to determine what the coordinates of a vector will be if it is rotated about a given axis by a given number of degrees. However, we still have no way to display the vector on a two dimensional surface which gives the illusion that we are seeing it in three dimensions. Although we instinctively feel that we are seeing the world in three dimensions, everything we percieve is actually in two dimensions. We can think of our eyes as cameras in that they exist in a three dimensional world, but display a two dimensional picture. Our goal is to replicate the illusion of the camera. The **first factor** that affects how a 3D vector space is portrayed in 2D is the angle from which the camera views the subject. Figure -- shows this."
   ]
  },
  {
   "cell_type": "markdown",
   "metadata": {},
   "source": [
    "**Figure __:** How perspective can change how a 3D vector space is portrayed in 2D.\n",
    "\n",
    "![image](C:\\Users\\Jeremy\\Desktop\\math-IA\\images\\perspective-example.png)"
   ]
  },
  {
   "cell_type": "markdown",
   "metadata": {},
   "source": [
    "Figure -- demonstrates that the number of pixels required to convey a 3D line in 2D changes depending on the angle that you view it from. Figure -- shows this mathematically using trigonometry."
   ]
  },
  {
   "cell_type": "markdown",
   "metadata": {},
   "source": [
    "**Figure __:** A simple example of 2D portrayal in 3D.\n",
    "\n",
    "![image](C:\\Users\\Jeremy\\Desktop\\math-IA\\images\\simple-3d-rotation.jpg)"
   ]
  },
  {
   "cell_type": "markdown",
   "metadata": {},
   "source": [
    "The figure above shows the cross-sectional view (what is shown on the screen) and the overhead view of a line spinning on another line in 3D. Because we know that $\\cos{\\theta}=\\frac{c}{h}$, where $h$ is the length of the hypotenuse, we can deduce that $c=h\\cos{\\theta}$. We also know that $\\cos{\\theta}$ can be negative and that there is no such thing as a negative distance, so we can modify this equation slightly by taking the absolute value of $\\cos{\\theta}$. This makes sense because the cross-sectional view of the line rotated $91\\degree$ would not be negative, but would instead be the same as the cross-sectional view of the line rotated $89\\degree$. So, the final formula would be  $c=h|\\cos{\\theta}|$. Figure __ shows what the value of $c$ would be given $h=6$."
   ]
  },
  {
   "cell_type": "markdown",
   "metadata": {},
   "source": [
    "**Figure __:** The value of $c$ from Figure __ given $h=6$.\n",
    "\n",
    "![image](C:\\Users\\Jeremy\\Desktop\\math-IA\\images\\distance-graph.png)"
   ]
  },
  {
   "cell_type": "markdown",
   "metadata": {},
   "source": [
    "#### Determining the general function for the camera's line of sight ####"
   ]
  },
  {
   "cell_type": "markdown",
   "metadata": {},
   "source": [
    "The first step involved in portraying a 3D vector space in 2D is to determine the camera's line of sight. \"Line of sight\" refers to the line that intersects with an is orthogonal to the surface of the camera's lens. On a 2D $x$ vs $y$ plot (the one we're accustomed to seeing), the equation for a line can be derived if we know two or more points that the line intersects with. If we have two 2D points $p_1=\\begin{bmatrix}x_1 \\\\ y_1\\end{bmatrix}$ and $p_2=\\begin{bmatrix}x_2 \\\\ y_2\\end{bmatrix}$, then the slope of the line can be found by:\n",
    "\n",
    "$m=\\frac{y_2-y_1}{x_2-x_1}$\n",
    "\n",
    "Then, one of the points can be plugged into the slope-intercept form to find $b$:\n",
    "\n",
    "$y_1 = mx_1 + b \\Rightarrow b = y_1 - mx_1$\n",
    "\n",
    "If we just use $x_1$, $y_1$, $x_2$ and $y_2$, then the slope-intercept form looks like this:\n",
    "\n",
    "$y = \\frac{(y_2-y_1)(x - x_1)}{x_2-x_1} + y_1$\n",
    "\n",
    "A similar principle can be used to determine the equation of a line in 3D. However, for the purposes of our 3D line, the independent variable is the distance travelled along the line itself, which we will name $a$. The values of each of the axes are the dependent variables. The function for the camera's line of sight will be called $cam(a)$. If we are given two 3D points $p_1=\\begin{bmatrix} x_1 \\\\ y_1 \\\\ z_1\\end{bmatrix}$ and $p_2=\\begin{bmatrix} x_1 \\\\ y_1 \\\\ z_1\\end{bmatrix}$, then:\n",
    "\n",
    "$x = \\frac{(x_2-x_1)(a - a_1)}{a_2-a_1} + a_1$\n",
    "\n",
    "$y = \\frac{(y_2-y_1)(a - a_1)}{a_2-a_1} + a_1$\n",
    "\n",
    "$z = \\frac{(z_2-z_1)(a - a_1)}{a_2-a_1} + a_1$\n",
    "\n",
    "Notice that each axis has a different equation because the rate at which the value changes relative to $a$ varies between axes. We can turn this system of equations into one equation that represents the line in three dimensions:\n",
    "\n",
    "$cam(a) = \\begin{bmatrix}\\frac{(x_2-x_1)(a - a_1)}{a_2-a_1} + a_1 \\\\ \\frac{(y_2-y_1)(a - a_1)}{a_2-a_1} + a_1 \\\\ \\frac{(z_2-z_1)(a - a_1)}{a_2-a_1} + a_1\\end{bmatrix}$"
   ]
  },
  {
   "cell_type": "markdown",
   "metadata": {},
   "source": [
    "#### Determining the function for the camera's line of sight given specific $o$ and $p$ values ####"
   ]
  },
  {
   "cell_type": "markdown",
   "metadata": {},
   "source": [
    "Now that we have the general equation for the line in three dimensions, we must substitute variables that are neither dependent nor independent with numerical values. The variables in the equation that meet this criterion are $a_1$, $a_2$, and all of the variables in the points $p_1$ and $p_2$. Let us see which variables we already know and which variables we need.\n",
    "\n",
    "* We know that $a1$ will be zero since it is at the position of the camera.\n",
    "* We know that $p_1$ will be the position of the camera. In other words, if the position of the camera is $p$, then $p_1=p$.\n",
    "* We know that $a_2$ can be found by finding the euclidean distance between $p_1$ and $p_2$, but we cannot calculate it yet because we do not know $p_2$.\n",
    "\n",
    "Therefore, we need to find a value for $p_2$.\n",
    "\n",
    "We can do this using an orientation vector $o=\\begin{bmatrix} \\theta_y \\\\ \\theta_p \\end{bmatrix}$. $\\theta_y$ (yaw) changes the orientation about the $y$ axis. If you were to turn your head from left to right, you would be rotating along the yaw axis. This is a clockwise rotation, and the $\\theta_y$ value before the rotation would be less that the $\\theta_y$ value after the rotation. $\\theta_p$ (pitch) changes the orientation about the $x$ axis. If you were to bow your head, you would be rotating along the pitch axis. This is a clockwise rotation, so the $\\theta_p$ value would also increase in this situation. When $\\theta_y$ and $\\theta_p$ are both zero, $p_2=\\begin{bmatrix} x_p \\\\ y_p \\\\ z_p + 1 \\end{bmatrix}$. This means that the line of the camera is orthogonal to the plane formed by the $x$ and $y$ axes. If you were to plot every possible $p_2$ point (there are an infinite number), you would see a sphere with a radius of 1 unit around the position of the camera. Thus, using the rotation matrices defined earlier, we can find $p_2$ using the following equation.\n",
    "\n",
    "$p_2 = \\begin{bmatrix} 0 \\\\ 0 \\\\ 1 \\end{bmatrix}\\begin{bmatrix}\\cos{\\theta_{y}} & 0 & -\\sin{\\theta_{y}} \\\\ 0 & 1 & 0 \\\\ \\sin{\\theta_{y}} & 0 & \\cos{\\theta_{y}}\\end{bmatrix}\\begin{bmatrix}1 & 0 & 0 \\\\ 0 & \\cos{\\theta_{p}} & -\\sin{\\theta_{p}} \\\\ 0 & \\sin{\\theta_{p}} & \\cos{\\theta_{p}}\\end{bmatrix}+p$\n",
    "\n",
    "$\\begin{bmatrix} 0 \\\\ 0 \\\\ 1 \\end{bmatrix}$ represents what $p_2$ would be given $o=\\begin{bmatrix} 0 \\\\ 0 \\end{bmatrix}$ and $p=\\begin{bmatrix} 0 \\\\ 0 \\\\ 0 \\end{bmatrix}$. The rotation matrices that it is a coefficient of rotate this point along the yaw ($y$) and pitch ($x$) axes. We start at the origin because the rotation matrices that we are using are meant for rotation about the axes of the vector space rather than the axes of the camera. The product of the rotation matrices and the position of the camera would put $p_2$ on the surface of a sphere with the origin as its center, which we do not want. The product of the rotation matrices and the origin point does this also, but it can be translated to the proper position by adding $p$ to it. Figure -- visually shows how the operation above works."
   ]
  },
  {
   "cell_type": "markdown",
   "metadata": {},
   "source": [
    "**Figure __:** Visual representation of how the above operation works."
   ]
  },
  {
   "cell_type": "markdown",
   "metadata": {},
   "source": [
    "Because we now have $p_2$, we can calculate $a_2$ by finding the euclidean distance between $p_1$ and $p_2$:\n",
    "\n",
    "$a_2 = \\sqrt{(x_2 - x_1)^2 + (y_2 - y_1)^2 + (z_2 - z_1)^2}$\n",
    "\n",
    "We now have definitions for all the variables in $cam(a)$ that are not independent or dependent. This means that if we were given a real position and orientation for a camera, we would be able to determine the equation for the line of sight for that particular camera."
   ]
  },
  {
   "cell_type": "markdown",
   "metadata": {},
   "source": [
    "### Finding the equation of the plane created by the corners of the frame for $a>0$ ###"
   ]
  },
  {
   "cell_type": "markdown",
   "metadata": {},
   "source": [
    "For any value of $a>0$ ($a$ must be greater than zero because a camera cannot see backwards), there are four \"frame points\" that are coplanar with $cam(a)$ and orthogonal to the line extending from the lens of the camera. These points represent the four corners of the camera's frame, and their values change when $a$ changes. To determine where a 3D point will lie on a 2D screen, we find a plane that is orthogonal to the line extending from the lens of the camera and which contains the 3D point. The intersection between the plane and the line is $cam(a)$, and the euclidean distance between $cam(a)$ and $p$ is $a$.\n",
    "\n",
    "If we are given a line which passes through both the origin and a point $\\begin{bmatrix} n \\\\ o \\\\ p \\end{bmatrix}$, in addition to a point $\\begin{bmatrix} i \\\\ j \\\\ k \\end{bmatrix}$, then a plane which contains the point $\\begin{bmatrix} i \\\\ j \\\\ k \\end{bmatrix}$ and is is orthogonal to the line has the equation: \n",
    "\n",
    "$nx + oy + pz = ni + oj + pk$\n",
    "\n",
    "For example, a plane which contains $\\begin{bmatrix} 20 \\\\ 9 \\\\ 16 \\end{bmatrix}$ and is orthogonal to a line which passes through the origin and $\\begin{bmatrix} 1 \\\\ 4 \\\\ 5 \\end{bmatrix}$ would have this equation:\n",
    "\n",
    "$x + 4y + 5z = 20 + 4 \\cdot 9 + 5 \\cdot 16 = 136$\n",
    "\n",
    "This can be simplified to:\n",
    "\n",
    "$x + 4y + 5z = 136$\n",
    "\n",
    "We can use this procedure to find the equation of the plane that is orthogonal to the line extending from the camera. $\\begin{bmatrix} i \\\\ j \\\\ k\\end{bmatrix}=cam(a)$ because this is the point that we want the plane to intersect with. Now, we need the point that intersects with the origin and is orthogonal to the plane we are calculating. Recall that the equation for $cam(a)$ is as follows:\n",
    "\n",
    "$cam(a) = \\begin{bmatrix}\\frac{(x_2-x_1)(a - a_1)}{a_2-a_1} + a_1 \\\\ \\frac{(y_2-y_1)(a - a_1)}{a_2-a_1} + a_1 \\\\ \\frac{(z_2-z_1)(a - a_1)}{a_2-a_1} + a_1\\end{bmatrix}$\n",
    "\n",
    "From this equation, we can derive a line that has the same direction but which intersects with the origin, which is known as the direction vector. A plane orthogonal to the direction vector will always be parallel with the plane that is orthogonal to the line which the direction vector is derived from. Each component of the direction vector is given by the terms in the component corresponding to $cam(a)$ that have a coefficient of $a$. Since each component is written in the same form, we can use the $z$ axis as an example. The equation for the $z$ axis can be expanded as follows so that it is clear which terms have $a$ as a coefficient and which ones do not.\n",
    "\n",
    "$\\frac{(z_2-z_1)(a - a_1)}{a_2-a_1} + a_1 \\Rightarrow a\\frac{z_2-z_1}{a_2-a_1} -a_1\\frac{z_2-z_1}{a_2-a_1} + a_1$\n",
    "\n",
    "Then, we eliminate the terms that do not have $a$ as a coefficient, which leaves us with:\n",
    "\n",
    "$a\\frac{z_2-z_1}{a_2-a_1}$\n",
    "\n",
    "If you wanted to maintain the direction of a 2D line, you would employ a similar technique. If $y$ is given by $mx+b$, then a line with the same direction but which passes through the origin is given by $mx$. When $x=0$ in $y=mx+b$, $y=0$ only if $b=0$. When $x=0$ in $y=mx$, $y=0$ because $m\\times0$ is always equal to $0$. If we apply this procedure to all the components in $cam(a)$, then we get:\n",
    "\n",
    "$cam'(a) = \\begin{bmatrix}a\\frac{(x_2-x_1)}{a_2-a_1} \\\\ a\\frac{(y_2-y_1)}{a_2-a_1} \\\\ a\\frac{(z_2-z_1)}{a_2-a_1}\\end{bmatrix}$\n",
    "\n",
    "$cam'(1) = \\begin{bmatrix}\\frac{(x_2-x_1)}{a_2-a_1} \\\\ \\frac{(y_2-y_1)}{a_2-a_1} \\\\ \\frac{(z_2-z_1)}{a_2-a_1}\\end{bmatrix}=\\begin{bmatrix} n \\\\ o \\\\ p\\end{bmatrix}$\n",
    "\n",
    "Note that $\\begin{bmatrix} n \\\\ o \\\\ p\\end{bmatrix}$ just has to be somewhere on $cam'(a)$, and that I set $a=1$ not because it is more \"correct\" than any other $a$ value, but because it cancels out the $a$ terms and gives $\\begin{bmatrix} n \\\\ o \\\\ p\\end{bmatrix}$ in the simplest form possible. Now, we have all the variables necessary to solve for the equation of the plane that the frame points will lie on at any $a>0$.\n",
    "\n",
    "$\\begin{bmatrix} n \\\\ o \\\\ p\\end{bmatrix}=\\begin{bmatrix}\\frac{(x_2-x_1)}{a_2-a_1} \\\\ \\frac{(y_2-y_1)}{a_2-a_1} \\\\ \\frac{(z_2-z_1)}{a_2-a_1}\\end{bmatrix}$\n",
    "\n",
    "$\\begin{bmatrix} i \\\\ j \\\\ k\\end{bmatrix}=cam(a)=\\begin{bmatrix}\\frac{(x_2-x_1)(a - a_1)}{a_2-a_1} + a_1 \\\\ \\frac{(y_2-y_1)(a - a_1)}{a_2-a_1} + a_1 \\\\ \\frac{(z_2-z_1)(a - a_1)}{a_2-a_1} + a_1\\end{bmatrix}$\n",
    "\n",
    "$nx + oy + pz = ni + oj + pk$\n",
    "\n",
    "$\\frac{(x_2-x_1)}{a_2-a_1}x + \\frac{(y_2-y_1)}{a_2-a_1}y + \\frac{(z_2-z_1)}{a_2-a_1}z = \\frac{(x_2-x_1)^2(a-a_1)}{a_2-a_1} + a_1(x_2-x_1) + \\frac{(y_2-y_1)^2(a-a_1)}{a_2-a_1} + a_1(y_2-y_1) + \\frac{(z_2-z_1)^2(a-a_1)}{a_2-a_1} + a_1(z_2-z_1)$"
   ]
  },
  {
   "cell_type": "markdown",
   "metadata": {},
   "source": [
    "#### Finding the distance from the center of the frame to a corner for any $a>0$ ####"
   ]
  },
  {
   "cell_type": "markdown",
   "metadata": {},
   "source": [
    "Once we have the equation for the plane, we must determine where the corners of the frame lie on that point. As $a$ increases, the euclidean distance between $cam(a)$ and each of the corners will grow proportionally. This makes sense intuitively. Imagine that you are flying a drone over an ocean with the camera pointing straight down. The area of ocean that the camera captures is far greater when the camera is 100 meters above the surface than when the camera is only 10 meters above. Figure -- shows snapshots of the frame at different values of $a$. Notice that the size of the frames increases proportionally with $a$, such that if you took a snapshot for *every* $0 < a < c$ where $c\\in\\R$, you would end up with a rectangular-based prism."
   ]
  },
  {
   "cell_type": "markdown",
   "metadata": {},
   "source": [
    "**Figure __:** How the frame expands as $a$ increases.\n",
    "\n",
    "![image](C:\\Users\\Jeremy\\Desktop\\math-IA\\images\\expanding-frame.jpg)"
   ]
  },
  {
   "cell_type": "markdown",
   "metadata": {},
   "source": [
    "We can define a function $cornerdist(a, \\phi_x, \\phi_y)$, which returns the distance between $cam(a)$ and each of the corners of the frame for any $a>0$. $\\phi_x$ and $\\phi_y$ represent the \"angles of perception\" of the camera. $cornerdist$ will increase at a faster rate with respect to $a$ if $\\phi_x$ and $\\phi_y$ are larger. Figure -- shows how the angles of perception affect the aspect ratio of the camera."
   ]
  },
  {
   "cell_type": "markdown",
   "metadata": {},
   "source": [
    "**Figure __:** $\\phi_x$ and $\\phi_y$\n",
    "\n",
    "![image](C:\\Users\\Jeremy\\Desktop\\math-IA\\images\\frame-math-basis.jpg)"
   ]
  },
  {
   "cell_type": "markdown",
   "metadata": {},
   "source": [
    "Figure -- shows that if you know $l_x$ and $l_y$, then you can determine, $b$, which is the output of $cornerdist$.\n",
    "\n",
    "$b = \\sqrt{l_x^2 + l_y^2}$\n",
    "\n",
    "$l_x$ and $l_y$ can be found by:\n",
    "\n",
    "$l_x = a\\cos{\\phi_x}$\n",
    "\n",
    "$l_y = a\\cos{\\phi_y}$\n",
    "\n",
    "By substituting the expanded forms of $l_x$ and $l_y$, we can write $cornerdist$ as:\n",
    "\n",
    "$cornerdist(a, \\phi_x, \\phi_y)=\\sqrt{(a\\cos{\\phi_x})^2 + (a\\cos{\\phi_y})^2}$"
   ]
  },
  {
   "cell_type": "markdown",
   "metadata": {},
   "source": [
    "#### Finding each frame point for any $a>0$ ####\n",
    "Now, we have a plane that the frame will lie on at any $a>0$ and a distance from a point on that plane that all of the corners of the frame will be. Thus, the possible locations for a corner of the frame at any $a>0$ is a circle with radius $cornerdist(a, \\phi_x, \\phi_y)$ that lies on the plane and has as its center $cam(a)$. The next step is to determine where each of the four corners of the frame lie on the plane at any $a>0$. To do this, we will need to introduce a new variable, $\\phi_r$, which stands for \"roll\". Rolling occurs along the $z$ axis of the camera. If you were to tilt your head from the left to the right, you would be performing a clockwise rolling operation (with a little bit of lateral translation). A head cannot do a $360\\degree$ roll while keeping the body upright because it is secured to the body by the neck. However, a camera *can* perform a $360\\degree$ rolling operation because it is not secured to anything that must rotate along with it. Rolling does not affect the equation for the line extending from the camera, $cam(a)$ because the axis that the rolling occurs on overlaps with $cam(a)$. In other words, when we roll the camera, we are rotating it about the line formed by $cam(a)$. What rolling affects is the orientation of the frame; rolling the camera can change where on the circle mentioned above each of the four frame points lies. When $\\phi_r=0$, the bottom and top of the frame are parallel with the plane formed by the $x$ and $z$ axes. $\\phi_r$ represents the angle between the line orthogonal to the plane formed by the $x$ and $z$ axes and the line intersecting with and orthogonal to both of the lines formed by the top and bottom of the frames."
   ]
  },
  {
   "cell_type": "markdown",
   "metadata": {},
   "source": []
  }
 ],
 "metadata": {
  "language_info": {
   "name": "python"
  },
  "orig_nbformat": 4
 },
 "nbformat": 4,
 "nbformat_minor": 2
}
