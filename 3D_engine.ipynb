{
 "cells": [
  {
   "cell_type": "markdown",
   "metadata": {},
   "source": [
    "# Converting the Mathematical Basis of a 3D Graphics Engine into Code #"
   ]
  },
  {
   "cell_type": "markdown",
   "metadata": {},
   "source": [
    "## Introduction ##\n",
    "### Justification ###\n",
    "In my previous exploration; I designed a the mathematical basis for a simple 3D graphics engine. Given the coordinates of the camera, the orientation of the camera, the aspect ratio of the camera, and the coordinates of a certain point in space; this engine can theoretically produce the coordinates of the point in space in 2D relative to the camera's point of view. In the conclusion of that investigation; I stated that a logical extension would be to convert the mathematical basis outlined there into code that could visually display this translation between dimensions. This exploration documents that logical extension."
   ]
  },
  {
   "cell_type": "markdown",
   "metadata": {},
   "source": [
    "### Tools ###\n",
    "I was originally planning on using Python; but I am so familiar with it at this point and I want to learn something new. I started learning Julia a while ago and thoroughly enjoyed its syntax. Julia is similar to Python in many ways; but differs in that it is faster; especially when dealing with mathematics. I believe that Julia has tremendous potential and I therefore want to learn it early to gain a competitive edge.\n",
    "\n",
    "I was also planning on using Pygame at first; but I obviously cannot easily integrate Julia with Pygame, so I'll have to use a library called GameZero.jl, which is not quite as sophisticated as Pygame, but works well enough for what we are trying to accomplish here."
   ]
  },
  {
   "cell_type": "markdown",
   "metadata": {},
   "source": [
    "## Math Section ##"
   ]
  },
  {
   "cell_type": "markdown",
   "metadata": {},
   "source": [
    "### Packages ###\n",
    "For this project, I am using GenericLinearAlgebra.jl. Constructing a 3D graphics engine obviously requires at least some linear algebra, and this is the best Julia library that I could find for the job."
   ]
  },
  {
   "cell_type": "code",
   "execution_count": null,
   "metadata": {},
   "outputs": [],
   "source": [
    "using GenericLinearAlgebra\n",
    "const GenericLinearAlgebra = LA"
   ]
  },
  {
   "cell_type": "markdown",
   "metadata": {},
   "source": [
    "### Defining Variables ###\n",
    "First, we need to define the variables concerning the camera. These are the position of the camera, its orientation, and its aspect ratio. All of these variables are mutable structs because their values are subject to change should we decide to introduce animation into this program. Dictionaries could have accomplished the same task, but apparently you are only supposed to use dictionaries in Julia if you don't know what the keys are going to be in advance. Mutable structs are more efficient otherwise."
   ]
  },
  {
   "cell_type": "code",
   "execution_count": 6,
   "metadata": {},
   "outputs": [],
   "source": [
    "\n",
    "\n",
    "Point = Vector{Float64}(undef, 3)\n",
    "\n",
    "mutable struct Orientation\n",
    "    Yaw::Float64\n",
    "    Pitch::Float64\n",
    "    Roll::Float64\n",
    "end\n",
    "\n",
    "mutable struct AspectRatio\n",
    "    Width :: Int64\n",
    "    Height :: Int64\n",
    "end\n",
    "\n",
    "mutable struct Camera\n",
    "    Coords::Point\n",
    "    Orientation::Orientation\n",
    "    AspectRatio::AspectRatio\n",
    "end"
   ]
  },
  {
   "cell_type": "markdown",
   "metadata": {},
   "source": [
    "### Line of Sight ###\n",
    "Next, we should write a function that, given information about the camera, can return a function for the camera's line of sight. Recall that the line of sight function was as follows:\n",
    "\n",
    " $cam(a) = \\begin{bmatrix} (x_2 - p_x)a + p_x \\\\  (y_2 - p_y)a + p_y \\\\ (z_2 - p_z)a + p_z\\end{bmatrix}$\n",
    "\n",
    "However, before we can write this function, we must determine the value of $p_2=\\begin{bmatrix} x_2 \\\\ y_2 \\\\ z_2\\end{bmatrix}$. $p_1$ (the camera's position) and $p_2$ form the unit vector for the line of sight. In other words, the distance between $p_1$ and $p_2$ is one unit. In code form, we'll refer to $p_2$ as `unitVec`. Recall that we can find the value of `unitVec` using rotation matrices:\n",
    "\n",
    "$p_2 = \\begin{bmatrix} 0 \\\\ 0 \\\\ 1 \\end{bmatrix}\\begin{bmatrix}\\cos{\\theta_{y}} & 0 & -\\sin{\\theta_{y}} \\\\ 0 & 1 & 0 \\\\ \\sin{\\theta_{y}} & 0 & \\cos{\\theta_{y}}\\end{bmatrix}\\begin{bmatrix}1 & 0 & 0 \\\\ 0 & \\cos{\\theta_{p}} & -\\sin{\\theta_{p}} \\\\ 0 & \\sin{\\theta_{p}} & \\cos{\\theta_{p}}\\end{bmatrix}+p$"
   ]
  },
  {
   "cell_type": "code",
   "execution_count": null,
   "metadata": {},
   "outputs": [],
   "source": [
    "function findUnitVec(Coords::Point, Orientation::Orientation)\n",
    "    yawRoation = [\n",
    "        cos(Yaw) 0.0 -sin(Yaw);\n",
    "           0.0   1.0   0.0    ;\n",
    "        sin(Yaw) 0.0  cos(Yaw)\n",
    "    ]\n",
    "    pitchRotation = [\n",
    "        1.0     0.0          0.0  ;\n",
    "        0.0 cos(Pitch) -sin(Pitch);\n",
    "        0.0 sin(Pitch)  cos(Pitch) \n",
    "    ]\n",
    "    Init = [0.0, 0.0, 1.0]\n",
    "    return Init * yawRotation * pitchRotation + Coords\n",
    "end"
   ]
  },
  {
   "cell_type": "markdown",
   "metadata": {},
   "source": [
    "Now that we have a way of finding `unitVec`, we can write a function that finds the line of sight of the camera."
   ]
  },
  {
   "cell_type": "code",
   "execution_count": null,
   "metadata": {},
   "outputs": [],
   "source": [
    "\n",
    "function lineOfSightGenerator(Coords::Point, unitVec::Point)\n",
    "    function lineOfSight(a::Float64)\n",
    "        axis = Symbol(axis)\n",
    "        return (unitVec - Coords) * LA.UniformScaling(a) + Coords\n",
    "    end\n",
    "    return lineOfSight\n",
    "end"
   ]
  },
  {
   "cell_type": "markdown",
   "metadata": {},
   "source": [
    "### The Orthogonal Plane ###\n",
    "Next, we need to write the function which, given a point in space, determines the $a$ value which forms a plane that contains $cam(a)$ and that point in space, and is also orthogonal to the line of sight. The equation for this $a$ value is as follows:\n",
    "\n",
    "$a = (x_2 - p_x)e_x + (y_2 - p_y)e_y + (z_2 - p_z)e_z + p_x^2 + p_y^2 + p_z^2 - x_2p_x - y_2p_y - x_2p_z$\n",
    "\n",
    "In writing the code for this formula, I realized that I had made a major oversight in my original formula, which just goes to show the importance of implementing your theories in a real model to ensure that they are mathematically and logically consistent."
   ]
  },
  {
   "cell_type": "code",
   "execution_count": null,
   "metadata": {},
   "outputs": [],
   "source": [
    "function getA(Coords::Point, Point::Point, unitVec::Point)\n",
    "    return (unitVec[1] - Coords[1]) * Point[1]\n",
    "        + (unitVec[2] - Coords[2]) * Point[2]\n",
    "        + (unitVec[3] - Coords[3]) * Point[3]\n",
    "        + square(Coords[1])\n",
    "        + square(Coords[2])\n",
    "        + square(Coords[3])\n",
    "        - Coords[1] * unitVec[1]\n",
    "        - Coords[2] * unitVec[2]\n",
    "        - Coords[3] * unitVec[3]\n",
    "end"
   ]
  },
  {
   "cell_type": "markdown",
   "metadata": {},
   "source": [
    "### Distance to the Corners ###\n",
    "Now that we have a way of determining the $a$ value for any point in space (including negative $a$ values, which I will discuss later), we can determine the distance from $cam(a)$ to any corner of the frame. Recall that the equation for this is as follows, where $\\phi_x$ and $\\phi_y$ are `AspectRatio.Width` and `AspectRatio.Height`, respectively:\n",
    "\n",
    "$cornerdist(a, \\phi_x, \\phi_y)=\\sqrt{(a\\cos{\\phi_x})^2 + (a\\cos{\\phi_y})^2}$"
   ]
  },
  {
   "cell_type": "code",
   "execution_count": null,
   "metadata": {},
   "outputs": [],
   "source": [
    "function cornerDist(a::Float64, AspectRatio::AspectRatio)\n",
    "    return sqrt(\n",
    "        square(a * cos(Camera.AspectRatio.Width))\n",
    "        + square(a * cos(Camera.AspectRatio.Height))\n",
    "        )\n",
    "end"
   ]
  },
  {
   "cell_type": "markdown",
   "metadata": {},
   "source": [
    "### Writing the Circle Formula ###\n",
    "A 3D circle formula (not a sphere, but a flat circle in 3D space) is helpful in this case because every rectangle can circumscribed. Thus, no matter how much the camera rolls, there will always be a circle which contains all four of its frame points for any $a$ value. By changing the angle that we give the formula, we can find the exact positions of all four frame points for any $a$ value. To write the circle formula, we need two orthogonal unit vectors which are also both orthogonal to the camera's line. We also need the radius, but we have already solved for this with `cornerDist`. \n",
    "\n",
    "$v_{z0} = \\frac{-a_y - a_z}{a_z}$\n",
    "\n",
    "The magnitude of the first orthogonal vector $v_0$ must be equal to 1, so we can solve for a scalar that satisfies the equation:\n",
    "\n",
    "$ \\vec{v} = {\\lVert \\begin{bmatrix} 1 \\\\ 1 \\\\ v_z0 \\end{bmatrix} \\rVert}^{-1} \\begin{bmatrix} 1 \\\\ 1 \\\\ v_z0 \\end{bmatrix}$"
   ]
  },
  {
   "cell_type": "code",
   "execution_count": null,
   "metadata": {},
   "outputs": [],
   "source": [
    "function V_z0(unitVec::Point)\n",
    "    return (-unitVec[2] - unitVec[1]) / unitVec[3]\n",
    "end\n",
    "\n",
    "function V(v_z0::Point)\n",
    "    Unscaled = Vector([1, 1, v_z0])\n",
    "    return (LA.norm(Unscaled) ^ -1) * Unscaled\n",
    "end"
   ]
  },
  {
   "cell_type": "markdown",
   "metadata": {},
   "source": [
    "The vector that is orthogonal to both the camera line and $\\vec{v}$, $\\vec{v}'$, can be found with the following formula. Note that the $\\times$ operator refers to the cross product operation rather than multiplication.\n",
    "\n",
    "$\\vec{v} \\times \\vec{a} = \\vec{v'_0}$\n",
    "\n",
    "$\\vec{v'} = {\\lVert \\vec{v'_0} \\rVert}^{-1} \\vec{v'_0}$"
   ]
  },
  {
   "cell_type": "code",
   "execution_count": null,
   "metadata": {},
   "outputs": [],
   "source": [
    "function V'(v::Point, unitVec::Point)\n",
    "    v_0' = cross(v, unitVec)\n",
    "    return (LA.norm(v_0') ^ -1) * v_0'\n",
    "end"
   ]
  },
  {
   "cell_type": "markdown",
   "metadata": {},
   "source": [
    "Now that we have a way of finding $\\vec{v}$ and $\\vec{v}'$, we can write the circle equation. The formula for the circle is as follows, where $r$ is the radius:\n",
    "\n",
    "$circle(\\gamma) = cam(a) + rv\\sin{\\gamma} + rv'\\cos{\\gamma}$"
   ]
  },
  {
   "cell_type": "code",
   "execution_count": null,
   "metadata": {},
   "outputs": [],
   "source": [
    "function circleGenerator(Point::Point, a::Point, v::Point, v'::Point, Cam::Function, r::Float64)\n",
    "    function Circle(gamma::Int64)\n",
    "        return Cam(a) + LA.UniformScaling(r) * (LA.UniformScaling(sin(gamma)) * v + LA.UniformScaling(cos(gamma)) * v')\n",
    "    end\n",
    "    return Circle\n",
    "end"
   ]
  },
  {
   "cell_type": "markdown",
   "metadata": {},
   "source": [
    "### Determining $\\gamma_0$ ###\n",
    "$\\gamma_0$ is the angle which, when plugged into the $circle$ function (which will I will write and explain later) produces a point which satisfies the following system (with angles in degrees):\n",
    "\n",
    "$circle(\\gamma_0 - 1)_y < circle(\\gamma_0)_y < circle(\\gamma_0 + 1)_y$ \n",
    "\n",
    "$circle(\\gamma_0)_y = cam(a)_y$\n",
    "\n",
    "The following formula produces one value, but we can derive two values from it by adding $\\pi$ to the original value.\n",
    "\n",
    "$\\gamma_0 = \\tan^{-1}{\\frac{-v'_y}{v_y}}$\n",
    "\n",
    "Only one of the two values will satisfy the first equation in the system. This is the real $\\gamma_0$."
   ]
  },
  {
   "cell_type": "code",
   "execution_count": null,
   "metadata": {},
   "outputs": [],
   "source": [
    "function Gamma_0(v::Point, v'::Point):\n",
    "    return atan(-(v'[2]), v[2])\n",
    "end"
   ]
  },
  {
   "cell_type": "markdown",
   "metadata": {},
   "source": [
    "### Determining Frame Points ###\n",
    "Frame corners are numbered 1-4, starting at the top right and rotating clockwise."
   ]
  },
  {
   "cell_type": "code",
   "execution_count": null,
   "metadata": {},
   "outputs": [],
   "source": [
    "function Y_theta(AspectRatio::AspectRatio)\n",
    "    l_x = AspectRatio.Width / 2\n",
    "    l_y = AspectRatio.Height / 2\n",
    "    return atan(l_y, l_x)\n",
    "end\n",
    "\n",
    "function X_theta(y_theta::Float64)\n",
    "    return pi / 2 - y_theta\n",
    "end\n",
    "\n",
    "function frameAngles(Orientation::Orientation, x_theta::Float64, y_theta::Float64, gamma_0::Float64)\n",
    "    Roll = Orientation.Roll\n",
    "    return [1 0 1; 1 1 1; 2 1 1; 2 2 1] * [y_theta; x_theta; gamma_0 - Roll]\n",
    "end\n",
    "\n",
    "function framePoints(Circle::Function, Angles::Vector)\n",
    "    return map(Circle, Angles)\n",
    "end"
   ]
  },
  {
   "cell_type": "markdown",
   "metadata": {},
   "source": [
    "### Conversion to 2D ###\n",
    "Now, we have a plane which contains the four frame points, the target point and the central point. We just need to convert this plane into two dimensions. The vector formed by frame points 3 and 4 represents the Y axis of the 2D plane, while the vector formed by frame points 3 and 2 represents the X axis of the 2D plane. The projections of the vector formed by frame point 3 and the target point onto both of the axes tells us whether the target point is contained in the canvas and, if so, the exact position on the canvas."
   ]
  },
  {
   "cell_type": "code",
   "execution_count": null,
   "metadata": {},
   "outputs": [],
   "source": [
    "function twoD_xAxis(Frame::Matrix)\n",
    "    return Frame[4] - Frame[3]\n",
    "end\n",
    "\n",
    "function twoD_yAxis(Frame::Matrix)\n",
    "    return Frame[2] - Frame[3]\n",
    "end\n",
    "\n",
    "function pointVector(Frame::Matrix, Point::Point)\n",
    "    return Point - Frame[3]\n",
    "\n",
    "function Proj(Axis::Vector, pointVector::Vector)\n",
    "    return LA.dot(Axis, pointVector)\n",
    "end\n",
    "\n",
    "function getPointRatio(X::Vector, Y::Vector, xProj::Float64, yProj::Float64)\n",
    "    xMag = LA.norm(X)\n",
    "    yMag = LA.norm(Y)\n",
    "    if 0 < xProj < xMag && 0 < yProj < yMag\n",
    "        return (X = xProj / xMag, Y = yProj / yMag)\n",
    "    else\n",
    "        return false\n",
    "    end\n",
    "end\n",
    "\n",
    "function ratioToCoords(Ratio::NamedTuple, AspectRatio::AspectRatio)\n",
    "    if issubset([false], Ratio):\n",
    "        return false\n",
    "    end\n",
    "    x = Ratio.X * AspectRatio.Width\n",
    "    y = Ratio.Y * AspectRatio.Height\n",
    "    return (X = x, Y = y)\n",
    "end"
   ]
  },
  {
   "cell_type": "markdown",
   "metadata": {},
   "source": [
    "### Gluing the Functions Together ###\n",
    "Now, we have a bunch of functions. But we still don't have a 3D graphics engine. Let's fix this. We need to write a function which will group together the individual tasks that each function executes so that we can see the process through to the end. This process was a learning experience for me because there were two ways which I could have gone about combining the functions and I was not initially sure which method I should employ. The first method (Method A) involves computing all the variables which any given function needs in order to run within the lexical scope of that function. An example of Method A is shown below."
   ]
  },
  {
   "cell_type": "code",
   "execution_count": null,
   "metadata": {},
   "outputs": [],
   "source": [
    "#=\n",
    "@memoize LRU(maxsize=1) function framePoints(Camera::Camera, Point::Point, Orientation::Orientation)\n",
    "    Roll = Orientation.Roll\n",
    "    Circle = circleGenerator(Camera, Point)\n",
    "    Angles = frameAngles(Camera, Point, Roll)\n",
    "    return map(Circle, Angles)\n",
    "end\n",
    "=#"
   ]
  },
  {
   "cell_type": "markdown",
   "metadata": {},
   "source": [
    "Note that the only computation unique to `framePoints` is `map(Circle, Angles)` while the rest of the function is simply setup for this computation. Also note the `@memoize LRU(maxsize=1)` macro preceding the function. If we were to use Method A, almost all functions would be memoized so that if they were ever called in two different functions with the same arguments, the computation would not be redundant. An advantage of Method A is that all of the functions are \"linked\" together since they reference each other. This means that less work goes into combining all of those functions at the end.\n",
    "\n",
    "Method B involves passing all (or almost all in some edge cases) of the variables required for any given function to run as parameters. This means the values for those variables must be computed outside of the lexical scope of the function. An example of Method B is shown below."
   ]
  },
  {
   "cell_type": "code",
   "execution_count": null,
   "metadata": {},
   "outputs": [],
   "source": [
    "#=\n",
    "function framePoints(Circle::Function, Angles::Vector)\n",
    "    return map(Circle, Angles)\n",
    "end\n",
    "=#"
   ]
  },
  {
   "cell_type": "markdown",
   "metadata": {},
   "source": [
    "Note that there is much less setup for the function to be able to run. We also no longer need memoization as long as all of these parameters are computed and cached within the same lexical scope. By far the most salient advantage of Method B is the fact that it makes testing and debugging significantly easier since helper functions do not directly rely on each other. Each function can be tested in isolation, which makes finding most bugs a piece of cake. For this reason, I decided to employ Method B. There may be a time in the future where Method A makes more practical sense, but that time is not now.\n",
    "\n",
    "As a consequence of employing Method B, the \"glue\" function is significantly longer."
   ]
  },
  {
   "cell_type": "code",
   "execution_count": null,
   "metadata": {},
   "outputs": [],
   "source": [
    "function three2Two(Camera::Camera, Point::Point)\n",
    "    Orientation = Camera.Orientation\n",
    "    AspectRatio = Camera.AspectRatio\n",
    "    Coords = Camera.Coords\n",
    "    unitVec = findUnitVec(Coords, Orientation)\n",
    "    Cam = lineOfSightGenerator(Coords, unitVec)\n",
    "    A = getA(Coords, Point, unitVec)\n",
    "    r = cornerDist(A, AspectRatio)\n",
    "    v_z0 = V_z0(unitVec)\n",
    "    v = V(v_z0)\n",
    "    v' = V'(v, unitVec)\n",
    "    Circle = circleGenerator(Point, A, v, v', Cam, r)\n",
    "    gamma_0 = Gamma_0(v, v')\n",
    "    y_theta = Y_theta(AspectRatio)\n",
    "    x_theta = X_theta(y_theta)\n",
    "    Angles = frameAngles(Orientation, x_theta, y_theta, gamma_0)\n",
    "    Frame = framePoints(Circle, Angles)\n",
    "    X = twoD_xAxis(Frame)\n",
    "    Y = twoD_yAxis(Frame)\n",
    "    PV = pointVector(Frame, Point)\n",
    "    xProj = Proj(X, PV)\n",
    "    yProj = Proj(Y, PV)\n",
    "    Ratio = getPointRatio(X, Y, xProj, yProj)\n",
    "    return ratioToCoords(Ratio, AspectRatio)\n",
    "end"
   ]
  },
  {
   "cell_type": "markdown",
   "metadata": {},
   "source": [
    "# Implementation Section #\n"
   ]
  },
  {
   "cell_type": "markdown",
   "metadata": {},
   "source": [
    "Now, we have a function, `three2Two`, which, given information about the camera and the point in 3D space, can give us the coordinates of that point on a 2D canvas. Next, we need to use this function to create a simple GUI so that users can actually visualize 3D-2D transformations. To do this, as mentioned previously, we will use a simple Julia GUI library called GameZero.jl.\n",
    "\n",
    "We'll start by creating a blank canvas with a height of 400 px and a width of 644 pixels. Why 644? The golden ratio is ~1.61, and 400 * 1.61 = 644. Unfortunately, GameZero.jl  does not allow us to change the dimensions of the canvas after the program is initialized, so we'll just stick with these dimensions. We'll also use a white background just because I want users to develop early onset cataracts."
   ]
  },
  {
   "cell_type": "code",
   "execution_count": null,
   "metadata": {},
   "outputs": [],
   "source": [
    "HEIGHT = 400\n",
    "WIDTH = 644\n",
    "center = (w = int(round(WIDTH / 2)) , h = int(round(HEIGHT / 2)))\n",
    "BACKGROUND = colorant\"white\""
   ]
  },
  {
   "cell_type": "markdown",
   "metadata": {},
   "source": [
    "Next, we'll create instances of the structures that we wrote at the beginning of this document. GameZero.jl is so limited in its capabilities that it does not even support text input. Therefore, we'll have to update these variables using keys like the up arrow, fore example."
   ]
  },
  {
   "cell_type": "code",
   "execution_count": null,
   "metadata": {},
   "outputs": [],
   "source": [
    "point = Point([0; 0; 0])\n",
    "orientation = Orientation(Yaw = 0, Pitch = 0, Roll = 0)\n",
    "aspectRatio = AspectRatio(Width = WIDTH, Height = HEIGHT)\n",
    "camera = Camera(Coords = [0; 0; 1], Orientation = orientation, AspectRatio = aspectRatio)"
   ]
  },
  {
   "cell_type": "markdown",
   "metadata": {},
   "source": []
  },
  {
   "cell_type": "code",
   "execution_count": null,
   "metadata": {},
   "outputs": [],
   "source": [
    "circle = Circle(center..., radius=5)\n",
    "circle.pos = center\n",
    "all_caught_up = false\n",
    "\n",
    "function update(g::Game)\n",
    "    if all_caught_up == true\n",
    "        return\n",
    "    end\n",
    "    \n",
    "    canvasCoords = three2Two(camera, point)\n",
    "    if canvasCoords\n",
    "        circle.pos = canvasCoords\n",
    "    else\n",
    "        # Move the circle off the canvas\n",
    "        # I couldn't find a better way to do this unfortunately\n",
    "        # GameZero is super barebones\n",
    "        circle.pos = WIDTH + 100, HEIGHT + 100\n",
    "    end\n",
    "    \n",
    "    two_degrees = deg2rad(2)\n",
    "    keys_pressed = true\n",
    "\n",
    "    # I wish I could find a more efficient way of doing this\n",
    "    if g.keyboard.RIGHT\n",
    "        orientation.Yaw -= two_degrees\n",
    "    elseif g.keyboard.LEFT\n",
    "        orienatation.Yaw += two_degrees\n",
    "    elseif g.keyboard.UP\n",
    "        orientation.Pitch -= two_degrees\n",
    "    elseif g.keyboard.DOWN\n",
    "        orientation.Pitch += two_degrees\n",
    "    else\n",
    "        keys_pressed = false\n",
    "    end\n",
    "\n",
    "    if keys_pressed\n",
    "        all_caught_up = false\n",
    "    end\n",
    "end"
   ]
  },
  {
   "cell_type": "markdown",
   "metadata": {},
   "source": [
    "# Testing #\n",
    "Usually, I would have tests in a separate module, but I want all the code for this project to be accessible within a single document and therefore have decided to place them here."
   ]
  },
  {
   "cell_type": "code",
   "execution_count": null,
   "metadata": {},
   "outputs": [],
   "source": [
    "using Test\n",
    "\n",
    "@testset \"findUnitVec\" begin\n",
    "    xAxis = [2; 0; 0]\n",
    "    yAxis = [0; 2; 0]\n",
    "    zAxis = [0; 0; 2]\n",
    "    noRot = Orientation(0, 0, 0)\n",
    "    x90DegRot = Orientation(deg2rad(90), 0, 0)\n",
    "    y90DegRot = Orientation(0, deg2rad(90), 0)\n",
    "    z90DegRot = Orientation(0, 0, deg2rad(90))\n",
    "    x45DegRot = Orientation(deg2rad(45), 0, 0)\n",
    "    y45DegRot = Orientation(0, deg2rad(45), 0)\n",
    "    z45DegRot = Orientation(0, 0, deg2rad(45))\n",
    "\n",
    "    # Ensure that everything works when no rotation is done\n",
    "    @test findUnitVec(xAxis, noRot) == [1; 0; 0]\n",
    "    @test findUnitVec(yAxis, noRot) == [0; 1; 0]\n",
    "    @test findUnitVec(zAxis, noRot) == [0; 0; 1]\n",
    "\n",
    "    # Test 90 degree rotation\n",
    "    @test findUnitVec(xAxis, x90DegRot) == [0; 0; -1]\n",
    "    @test findUnitVec(yAxis, y90DegRot) == [0; 0; 1]\n",
    "    @test findUnitVec(zAxis, z90DegRot) == [-1; 0; 0]\n",
    "\n",
    "    # Test 45 degree rotation\n",
    "    s2 = sqrt(2)\n",
    "    @test findUnitVec(xAxis, x45DegRot) == [s2; 0; -s2]\n",
    "    @test findUnitVec(yAxis, y45DegRot) == [0; s2; s2]\n",
    "    @test findUnitVec(zAxis, z45DegRot) == [s2; 0; s2]\n",
    "\n",
    "    # Ensure that outputs are in fact unit vectors\n",
    "    @test findUnitVec([14.0, 19.0, 20.0], Orientation(2.33, 4.9, 40.0))\n",
    "end\n",
    "\n",
    "@testset \"lineOfSightGenerator\" begin\n",
    "    @test\n",
    "end"
   ]
  }
 ],
 "metadata": {
  "kernelspec": {
   "display_name": "Julia 1.7.3",
   "language": "julia",
   "name": "julia-1.7"
  },
  "language_info": {
   "file_extension": ".jl",
   "mimetype": "application/julia",
   "name": "julia",
   "version": "1.7.3"
  },
  "orig_nbformat": 4,
  "vscode": {
   "interpreter": {
    "hash": "cdf433682cbe9968d7764873f87164db8641effb758ebee62e489150bdf64f5a"
   }
  }
 },
 "nbformat": 4,
 "nbformat_minor": 2
}
