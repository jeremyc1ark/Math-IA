{
 "cells": [
  {
   "cell_type": "markdown",
   "metadata": {},
   "source": [
    "# Building the Mathematical Basis of A 3D Graphics Engine #"
   ]
  },
  {
   "cell_type": "markdown",
   "metadata": {},
   "source": [
    "## Section 1: Introduction ##\n",
    "**In this exploration, I aim to build the mathematical basis of a 3D graphics engine.**\n",
    "\n",
    "Given information about the position of the camera, the orientation of the camera, the aspect ratio of the camera, and the dimensions of a 2D canvas, I aim to be able to determine where on that canvas a point in a 3D vector space would appear on the 2D canvas when viewed from the perspective of the camera.\n",
    "\n",
    "I became interested in 3D graphics after completing an online Khan Academy course about Linear Algebra two summers ago. That course taught me the theoretical fundamentals of Linear Algebra, but made few connections between the theories and their practical applications. One of the only topics within that course which had a clear practical application was rotation matrices, which can be used to rotate points in 2D and 3D space. By the time I embarked on this exploration, I had forgotten the bulk of what I had learned in the course because it seemed so esoteric and theoretical. However, I had not forgotten about rotation matrices. I initially decided to do my exploration solely on rotation matrices until I realized that this topic alone would not be sufficient for a full-fledged Internal Assessement. Therefore, I decided to incorporate rotation matrices into the construction of a 3D graphics engine, which utilizes other aspects of linear algebra that I was less well-versed in. This exploration helped illuminate the practical applications of several disparate topics within the field of linear algebra, and renewed my interest in the field. \n",
    "\n",
    "I have done no research into methods that others have employed because I wanted to arrive at a unique solution of my own. I am sure that there are more computationally efficient methods for constructing a 3D graphics engine than the one I will present in this exploration.  However, this process was not so much about being \"right\" as it was about deepening my understanding of the field and sharpening my problem-solving skills."
   ]
  },
  {
   "cell_type": "markdown",
   "metadata": {},
   "source": [
    "## Section 2: Rotation Matrices ##\n",
    "#### The mathematical basis of rotation in two dimensions ####"
   ]
  },
  {
   "cell_type": "markdown",
   "metadata": {},
   "source": [
    "Let us start with a reference frame consisting of two lines, $\\hat{x}$ and $\\hat{y}$, where $\\hat{x}$ and $\\hat{y}$ are orthogonal to each other.\n",
    "\n",
    "Within that reference frame, let there be a coordinate vector $\\vec{a}=\\begin{bmatrix}a_{x} \\\\ a_{y}\\end{bmatrix}$. The angle between $\\hat{x}$ and $\\vec{a}$ is $\\theta$, which can also be defined as $\\sin^{-1}{\\frac{\\vec{a}_{y}}{b}}$.\n",
    "\n",
    "Using trigonometry, we can determine that $\\begin{bmatrix}a_{x} \\\\ a_{y}\\end{bmatrix}=\\begin{bmatrix}\\|\\vec{a}\\|\\cos{\\theta} \\\\ \\|\\vec{a}\\|\\sin{\\theta}\\end{bmatrix}$. This equation is true because $\\cos{d}$ is equal to the x-coordinate of the tip of a vector in a unit circle, where $d$ is equal to the counter clockwise angle from the x-axis. Similarly, $\\sin{d}$ is equal to the y-coordinate of the tip of a vector in a unit circle. Usually, the vector cannot be contained within a unit circle (its magnitude is not equal to 1), which is why both terms are have $r$ as coefficients. This scales the points such that the magnitude of the vector in polar form is the same as the magnitude in coordinate form.\n",
    "\n",
    "Say that we want to rotate $\\vec{a}$ by $\\phi$ degrees to create a new vector called $\\vec{a}'$. Using the formula above, we can deduce that $\\vec{a}'=\\begin{bmatrix}\\|\\vec{a}\\|\\cos{(\\theta+\\phi)} \\\\ \\|\\vec{a}\\|\\sin{(\\theta+\\phi)}\\end{bmatrix}$. Figure 1 shows what this might look like."
   ]
  },
  {
   "cell_type": "markdown",
   "metadata": {},
   "source": [
    "**Figure 1:** A rotation in two dimensions.\n",
    "\n",
    "![image](C:\\Users\\Jeremy\\Desktop\\math-IA\\images\\2d-rotation.jpg)"
   ]
  },
  {
   "cell_type": "markdown",
   "metadata": {},
   "source": [
    "We know:\n",
    "* $\\sin{(x+y)}=\\sin{x}\\cos{y}+\\sin{y}\\cos{x}$\n",
    "* $\\cos{(x+y)}=\\cos{x}\\cos{y}-\\sin{x}\\sin{y}$\n",
    "\n",
    "Therefore, we can rewrite $\\begin{bmatrix}\\|\\vec{a}\\|\\cos{(\\theta+\\phi)} \\\\ \\|\\vec{a}\\|\\sin{(\\theta+\\phi)}\\end{bmatrix}$ as $\\begin{bmatrix}\\|\\vec{a}\\|\\cos{\\theta}\\cos{\\phi}-\\|\\vec{a}\\|\\sin{\\theta}\\sin{\\phi} \\\\ \\|\\vec{a}\\|\\sin{\\theta}\\cos{\\phi}+\\|\\vec{a}\\|\\sin{\\phi}\\cos{\\theta}\\end{bmatrix}$.\n",
    "\n",
    "Using $\\begin{bmatrix}a_{x} \\\\ a_{y}\\end{bmatrix}=\\begin{bmatrix}\\|\\vec{a}\\|\\cos{\\theta} \\\\ \\|\\vec{a}\\|\\sin{\\theta}\\end{bmatrix}$, we can rewrite the former again as $\\begin{bmatrix}a_{x}\\cos{\\phi}-a_{y}\\sin{\\phi} \\\\ a_{x}\\sin{\\phi}+a_{y}\\cos{\\phi}\\end{bmatrix}$. This can be rewritten into its simplest form: $\\begin{bmatrix}a_{x} \\\\ a_{y}\\end{bmatrix}\\begin{bmatrix}\\cos{\\phi} & -\\sin{\\phi} \\\\ \\sin{\\phi} & \\cos{\\phi}\\end{bmatrix}$. So, if one wants to rotate $\\vec{a}$ by $\\phi$ degrees, then $\\vec{a}'=\\vec{a}\\begin{bmatrix}\\cos{\\phi} & -\\sin{\\phi} \\\\ \\sin{\\phi} & \\cos{\\phi}\\end{bmatrix}$. The coefficient of $\\vec{a}$ in this formula is known as the rotation matrix. $\\begin{bmatrix}\\cos{\\phi} & -\\sin{\\phi} \\\\ \\sin{\\phi} & \\cos{\\phi}\\end{bmatrix}$ is the rotation matrix about the origin in two dimensions.$^1$\n"
   ]
  },
  {
   "cell_type": "markdown",
   "metadata": {},
   "source": [
    "#### Calculating resultant coordinates of 3D rotation operations ####"
   ]
  },
  {
   "cell_type": "markdown",
   "metadata": {},
   "source": [
    "\n",
    "We can now establish the reference frame for a three dimensional model. This time, the reference frame will consist of three lines, otherwise known as axes: $x$, $y$, and $z$. Every axis is orthogonal to every other axis. Rotations in two dimensions always involve just one angle: $\\phi$. However, in three dimensions, vectors can be rotated with three angles, each one corresponding to an axis. For example, one might choose to rotate a vector $20^{\\circ}$ about the $x$ axis, $40^{\\circ}$ about the $y$ axis and $0^{\\circ}$ about the $z$ axis. A rotation in three dimensions can therefore be represented with the vector:\n",
    "\n",
    "$\\begin{bmatrix}\\theta_{x} \\\\ \\theta_{y} \\\\ \\theta_{z}\\end{bmatrix}$\n",
    "\n",
    "Rotation around each of the axes requires its own rotation matrix. One can perform the full rotation by multiplying the vector by each of the rotation matrices.\n",
    "\n",
    "In the three dimensional reference frame, $\\vec{a}=\\begin{bmatrix}a_{x} \\\\ a_{y} \\\\ a_{z}\\end{bmatrix}$. If we want to rotate about the $x$ axis, then we want $a_{x}$ to remain constant and $a_{y}$ and $a_{z}$ to change. We can think of this rotation as happening in two dimensions since it remains on a single plane that is parallel to the $y$ and $z$ axes, and we can also think of the $x$ axis as being the origin of the rotation. If we want the coordinates on the $x$ axis to remain constant, we can fill in the values that would make that happen on the $x$ rotation matrix:\n",
    "\n",
    "$\\begin{bmatrix}1 & 0 & 0 \\\\ 0 & \\_ & \\_ \\\\ 0 & \\_ & \\_\\end{bmatrix}$\n",
    "\n",
    "This leaves four remaining values. Recall that the two dimensional rotation matrix also had four values, and that we are rotating along a two dimensional plane. This means that we can use the values from the two dimensional rotation matrix to fill in the remaining blank spots in this rotation matrix. So, the final rotation matrix for the $x$ axis in three dimensions is:\n",
    "\n",
    "$\\begin{bmatrix}1 & 0 & 0 \\\\ 0 & \\cos{\\theta_{x}} & -\\sin{\\theta_{x}} \\\\ 0 & \\sin{\\theta_{x}} & \\cos{\\theta_{x}}\\end{bmatrix}$\n",
    "\n",
    "We can apply the same principle to the remaining two axes. For the $y$ axis, this gives us: \n",
    "\n",
    "$\\begin{bmatrix}\\cos{\\theta_{y}} & 0 & -\\sin{\\theta_{y}} \\\\ 0 & 1 & 0 \\\\ \\sin{\\theta_{y}} & 0 & \\cos{\\theta_{y}}\\end{bmatrix}$. \n",
    "\n",
    "For the $z$ axis, this gives us:\n",
    "\n",
    "$\\begin{bmatrix}\\cos{\\theta_{z}} & -\\sin{\\theta_{z}} & 0 \\\\ \\sin{\\theta_{z}} & \\cos{\\theta_{z}} & 0 \\\\ 0 & 0 & 1\\end{bmatrix}$."
   ]
  },
  {
   "cell_type": "markdown",
   "metadata": {},
   "source": [
    "## Section 3: Factors that affect how a 3D vector space is portrayed 2D ##"
   ]
  },
  {
   "cell_type": "markdown",
   "metadata": {},
   "source": [
    "We now have the ability to determine what the coordinates of a vector will be if it is rotated about a given axis by a given number of degrees. However, we still have no way to display the vector on a two dimensional surface which gives the illusion that we are seeing it in three dimensions. Although we instinctively feel that we are seeing the world in three dimensions, everything we percieve is actually in two dimensions. We can think of our eyes as cameras in that they exist in a three dimensional world, but display a two dimensional picture. Our goal is to replicate the illusion of the camera. The **first factor** that affects how a 3D vector space is portrayed in 2D is the angle from which the camera views the subject. Figure 2 shows this."
   ]
  },
  {
   "cell_type": "markdown",
   "metadata": {},
   "source": [
    "**Figure 2:** How perspective can change how a 3D vector space is portrayed in 2D.\n",
    "\n",
    "![image](C:\\Users\\Jeremy\\Desktop\\math-IA\\images\\perspective-example.png)"
   ]
  },
  {
   "cell_type": "markdown",
   "metadata": {},
   "source": [
    "Figure 2 demonstrates that the number of pixels required to convey a 3D line in 2D changes depending on the angle that you view it from. Figure 3 shows this mathematically using trigonometry."
   ]
  },
  {
   "cell_type": "markdown",
   "metadata": {},
   "source": [
    "**Figure 3:** A simple example of 2D portrayal in 3D.\n",
    "\n",
    "![image](C:\\Users\\Jeremy\\Desktop\\math-IA\\images\\simple-3d-rotation.jpg)"
   ]
  },
  {
   "cell_type": "markdown",
   "metadata": {},
   "source": [
    "The figure above shows the cross-sectional view (what is shown on the screen) and the overhead view of a line spinning on another line in 3D. Because we know that $\\cos{\\theta}=\\frac{c}{h}$, where $h$ is the length of the hypotenuse, we can deduce that $c=h\\cos{\\theta}$. We also know that $\\cos{\\theta}$ can be negative and that there is no such thing as a negative distance, so we can modify this equation slightly by taking the absolute value of $\\cos{\\theta}$. This makes sense because the cross-sectional view of the line rotated $91^{\\circ}$ would not be negative, but would instead be the same as the cross-sectional view of the line rotated $89^{\\circ}$. So, the final formula would be  $c=h|\\cos{\\theta}|$. Figure 4 shows what the value of $c$ would be given $h=6$."
   ]
  },
  {
   "cell_type": "markdown",
   "metadata": {},
   "source": [
    "**Figure 4:** The value of $c$ from Figure 3 given $h=6$.\n",
    "\n",
    "![image](C:\\Users\\Jeremy\\Desktop\\math-IA\\images\\distance-graph.png)"
   ]
  },
  {
   "cell_type": "markdown",
   "metadata": {},
   "source": [
    "## Section 4: Line of Sight ##\n",
    "#### Determining the general function for the camera's line of sight ####"
   ]
  },
  {
   "cell_type": "markdown",
   "metadata": {},
   "source": [
    "The first step involved in portraying a 3D vector space in 2D is to determine the camera's line of sight. \"Line of sight\" refers to the line that intersects with an is orthogonal to the surface of the camera's lens. On a 2D $x$ vs $y$ plot (the one we're accustomed to seeing), the equation for a line can be derived if we know two or more points that the line intersects with. If we have two 2D points $p_1=\\begin{bmatrix}x_1 \\\\ y_1\\end{bmatrix}$ and $p_2=\\begin{bmatrix}x_2 \\\\ y_2\\end{bmatrix}$, then the slope of the line can be found by:\n",
    "\n",
    "$m=\\frac{y_2-y_1}{x_2-x_1}$\n",
    "\n",
    "Then, one of the points can be plugged into the slope-intercept form to find $b$, which is the y-intercept:\n",
    "\n",
    "$y_1 = mx_1 + b \\Rightarrow b = y_1 - mx_1$\n",
    "\n",
    "If we just use $x_1$, $y_1$, $x_2$ and $y_2$, then the slope-intercept form looks like this:\n",
    "\n",
    "$y = (\\frac{y_2-y_1}{x_2-x_1})x + y_1 - x_1(\\frac{y_2-y_1}{x_2-x_1})$\n",
    "\n",
    "A similar principle can be used to determine the equation of a line in 3D. However, for the purposes of our 3D line, the independent variable is the distance travelled along the line itself, which we will name $a$. The values of each of the axes are the dependent variables. The function for the camera's line of sight will be called $cam(a)$. If we are given two 3D points $p_1=\\begin{bmatrix} p_x \\\\ p_y \\\\ p_z\\end{bmatrix}$ (position of the camera) and $p_2=\\begin{bmatrix} x_2 \\\\ y_2 \\\\ z_2\\end{bmatrix}$, then we can write an equation for $cam(a)$. $p_1$ is simply the position of the camera, which is already known. Later, we will determine $p_2$, but for now, it is important to know that the distance between $p_1$ and $p_2$ is always equal to 1, meaning that the slope of the equation for any axis is simply equal to the change in the axis between $p_2$ and $p_1$. In addition, the axis-intercept (the value of the axis when $a=0$) is readily available because the position of the camera has the values for all three axes when $a=0$. Thus we can write the equation for each axis as:\n",
    "\n",
    "$x = (x_2 - p_x)a + p_x$\n",
    "\n",
    "$y = (y_2 - p_y)a + p_y$\n",
    "\n",
    "$z = (z_2 - p_z)a + p_z$\n",
    "\n",
    "Notice that each axis has a different equation because the rate at which the value changes relative to $a$ varies between axes. We can turn this system of equations into one equation that represents the line in three dimensions:\n",
    "\n",
    "$cam(a) = \\begin{bmatrix} (x_2 - p_x)a + p_x \\\\  (y_2 - p_y)a + p_y \\\\ (z_2 - p_z)a + p_z\\end{bmatrix}$\n",
    "\n",
    "From now on, I will refer to the line itself as $A$ and to a specific point on that line as $cam(a)$."
   ]
  },
  {
   "cell_type": "markdown",
   "metadata": {},
   "source": [
    "#### Determining the function for the camera's line of sight given specific $o$ and $p$ values ####"
   ]
  },
  {
   "cell_type": "markdown",
   "metadata": {},
   "source": [
    "Now, we know the equation for the camera's line of sight given a $p_2$ value that is one unit away from $p$. But how do we determine what the $p_2$ value is?\n",
    "\n",
    "The value of $p_2$ is dependent on the camera's orientation, $o=\\begin{bmatrix} \\theta_y \\\\ \\theta_p \\end{bmatrix}$. $\\theta_y$ (yaw) changes the orientation about the $y$ axis. If you were to turn your head from left to right, you would be rotating along the yaw axis. This is a clockwise rotation, and the $\\theta_y$ value before the rotation would be less that the $\\theta_y$ value after the rotation. $\\theta_p$ (pitch) changes the orientation about the $x$ axis. If you were to bow your head, you would be rotating along the pitch axis. This is a clockwise rotation, so the $\\theta_p$ value would also increase in this situation. When $\\theta_y$ and $\\theta_p$ are both zero, $p_2=\\begin{bmatrix} x_p \\\\ y_p \\\\ z_p + 1 \\end{bmatrix}$. This means that the line of the camera is orthogonal to the plane formed by the $x$ and $y$ axes. If you were to plot every possible $p_2$ point (there are an infinite number), you would see a sphere with a radius of 1 unit around the position of the camera. Thus, using the rotation matrices defined earlier, we can find $p_2$ using the following equation.\n",
    "\n",
    "$p_2 = \\begin{bmatrix} 0 \\\\ 0 \\\\ 1 \\end{bmatrix}\\begin{bmatrix}\\cos{\\theta_{y}} & 0 & -\\sin{\\theta_{y}} \\\\ 0 & 1 & 0 \\\\ \\sin{\\theta_{y}} & 0 & \\cos{\\theta_{y}}\\end{bmatrix}\\begin{bmatrix}1 & 0 & 0 \\\\ 0 & \\cos{\\theta_{p}} & -\\sin{\\theta_{p}} \\\\ 0 & \\sin{\\theta_{p}} & \\cos{\\theta_{p}}\\end{bmatrix}+p$\n",
    "\n",
    "$\\begin{bmatrix} 0 \\\\ 0 \\\\ 1 \\end{bmatrix}$ represents what $p_2$ would be given $o=\\begin{bmatrix} 0 \\\\ 0 \\end{bmatrix}$ and $p=\\begin{bmatrix} 0 \\\\ 0 \\\\ 0 \\end{bmatrix}$. The rotation matrices that it is a coefficient of rotate this point along the yaw ($y$) and pitch ($x$) axes. We start at the origin because the rotation matrices that we are using are meant for rotation about the axes of the vector space rather than the axes of the camera. The product of the rotation matrices and the position of the camera would put $p_2$ on the surface of a sphere with the origin as its center, which can then be translated towards the position of the camera. We do the rotation about the origin because the rotation matrices defined earlier can only rotate about axes."
   ]
  },
  {
   "cell_type": "markdown",
   "metadata": {},
   "source": [
    "## Section 5: The Orthogonal Plane ##\n",
    "#### The general equation of an orthogonal plane ####"
   ]
  },
  {
   "cell_type": "markdown",
   "metadata": {},
   "source": [
    "For any value of $a>0$ ($a$ must be greater than zero because a camera cannot see backwards), there are four \"frame points\" that are coplanar with $cam(a)$ and orthogonal to the line extending from the lens of the camera. These points represent the four corners of the camera's frame, and their values change when $a$ changes. To determine where a 3D point will lie on a 2D screen, we find a plane that is orthogonal to the line extending from the lens of the camera and which contains the 3D point. The intersection between the plane and the line is $cam(a)$, and the euclidean distance between $cam(a)$ and $p$ is $a$.\n",
    "\n",
    "If we are given a line which passes through both the origin and a point $\\begin{bmatrix} n \\\\ o \\\\ p \\end{bmatrix}$, in addition to a point $\\begin{bmatrix} i \\\\ j \\\\ k \\end{bmatrix}$, then a plane which contains the point $\\begin{bmatrix} i \\\\ j \\\\ k \\end{bmatrix}$ and is is orthogonal to the line has the equation $^2$: \n",
    "\n",
    "$nx + oy + pz = ni + oj + pk$\n",
    "\n",
    "For example, a plane which contains $\\begin{bmatrix} 20 \\\\ 9 \\\\ 16 \\end{bmatrix}$ and is orthogonal to a line which passes through the origin and $\\begin{bmatrix} 1 \\\\ 4 \\\\ 5 \\end{bmatrix}$ would have this equation:\n",
    "\n",
    "$x + 4y + 5z = 20 + 4 \\cdot 9 + 5 \\cdot 16 = 136$\n",
    "\n",
    "This can be simplified to:\n",
    "\n",
    "$x + 4y + 5z = 136$"
   ]
  },
  {
   "cell_type": "markdown",
   "metadata": {},
   "source": [
    "#### The equation of an orthogonal plane for a specific $a$ value ####"
   ]
  },
  {
   "cell_type": "markdown",
   "metadata": {},
   "source": [
    "\n",
    "We can use this procedure to find the equation of the plane that is orthogonal to the line extending from the camera. $\\begin{bmatrix} i \\\\ j \\\\ k\\end{bmatrix}=cam(a)$ because this is the point that we want the plane to intersect with. Now, we need the point that intersects with the origin and is orthogonal to the plane we are calculating. Recall that the equation for $cam(a)$ is as follows:\n",
    "\n",
    "$cam(a) = \\begin{bmatrix} (x_2 - p_x)a + p_x \\\\  (y_2 - p_y)a + p_y \\\\ (z_2 - p_z)a + p_z\\end{bmatrix}$\n",
    "\n",
    "From this equation, we can derive a line that has the same direction but which intersects with the origin, which is known as the direction vector. A plane orthogonal to the direction vector will always be parallel with the plane that is orthogonal to the line which the direction vector is derived from. Each component of the direction vector is given by the terms in the component corresponding to $cam(a)$ that have a coefficient of $a$. Since each component is written in the same form, we can use the $z$ axis as an example.\n",
    "\n",
    "$cam(a)_z = (z_2 - p_z)a + p_z \\Rightarrow cam(a)'_z = (z_2 - p_z)a$\n",
    "\n",
    "If we apply this to every equation for the 3D line, we get:\n",
    "\n",
    "$cam'(a) = \\begin{bmatrix} (x_2 - p_x)a \\\\  (y_2 - p_y)a \\\\ (z_2 - p_z)a\\end{bmatrix}$\n",
    "\n",
    "By setting $a=1$, we can find a point on $cam'(a)$, which can be used as the point through which the line that is orthogonal to the plane passes. Note that $a$ can be set to any value greater than 1, since the direction of the vector formed by the output would be the same irrespective of its magnitude.\n",
    "\n",
    "$cam'(1) = \\begin{bmatrix} x_2 - p_x \\\\  y_2 - p_y \\\\ z_2 - p_z\\end{bmatrix}$\n",
    "\n",
    "Now, we write the equation of the plane:\n",
    "\n",
    "$\\begin{bmatrix} n \\\\ o \\\\ p\\end{bmatrix}=\\begin{bmatrix} x_2 - p_x \\\\  y_2 - p_y \\\\ z_2 - p_z\\end{bmatrix}$\n",
    "\n",
    "$\\begin{bmatrix} i \\\\ j \\\\ k\\end{bmatrix}=cam(a)=\\begin{bmatrix} (x_2 - p_x)a + p_x \\\\  (y_2 - p_y)a + p_y \\\\ (z_2 - p_z)a + p_z\\end{bmatrix}$\n",
    "\n",
    "$nx + oy + pz = ni + oj + pk$\n",
    "\n",
    "$(x_2 - p_x)x + (y_2 - p_y)y + (z_2 - p_z)z = a((x_2 - p_x)^2 + (y_2 - p_y)^2 + (z_2 - p_z)^2) - p_x^2 - p_y^2 - p_z^2 + x_2p_x + y_2p_y + x_2p_z$\n",
    "\n",
    "The expression $(x_2 - p_x)^2 + (y_2 - p_y)^2 + (z_2 - p_z)^2$ is equal to the square of the distance between $p$ and $p_2$. This distance is 1, so the square is also 1. We can simplify the plane equation with this information.\n",
    "\n",
    "$(x_2 - p_x)x + (y_2 - p_y)y + (z_2 - p_z)z = a - p_x^2 - p_y^2 - p_z^2 + x_2p_x + y_2p_y + x_2p_z$\n",
    "\n",
    "From now on, I will refer to this plane as $P$."
   ]
  },
  {
   "cell_type": "markdown",
   "metadata": {},
   "source": [
    "#### Determining what the $a$ value should be for a specific point ####"
   ]
  },
  {
   "cell_type": "markdown",
   "metadata": {},
   "source": [
    "We should keep in mind that the whole reason we wrote an equation for the line extending from the camera and the plane orthogonal to that line and containing a point on it is to find a plane that contains a point on $cam(a)$, the four frame points at that $a$ value, *and* a given point. Once these are all on the same plane, we can determine where the given point is in relation to the four frame points, which will allow us to plot in in 2D. The given point cannot change, but the value of $a$ can, so if we are to find the plane that contains all of the aforementioned points, we must solve for $a$ first. We can do this by plugging the given point, $e$,  into the plane equation and then isolating $a$.\n",
    "\n",
    "$a = (x_2 - p_x)e_x + (y_2 - p_y)e_y + (z_2 - p_z)e_z + p_x^2 + p_y^2 + p_z^2 - x_2p_x - y_2p_y - x_2p_z$"
   ]
  },
  {
   "cell_type": "markdown",
   "metadata": {},
   "source": [
    "## Section 6: The Corners of the Frame and Conversion to 2D ##"
   ]
  },
  {
   "cell_type": "markdown",
   "metadata": {},
   "source": [
    "#### Describing the frame ####"
   ]
  },
  {
   "cell_type": "markdown",
   "metadata": {},
   "source": [
    "Once we have the equation for the plane, we must determine where the corners of the frame lie on that point. As $a$ increases, the euclidean distance between $cam(a)$ and each of the corners will grow proportionally. This makes sense intuitively. Imagine that you are flying a drone over an ocean with the camera pointing straight down. The area of ocean that the camera captures is far greater when the camera is 100 meters above the surface than when the camera is only 10 meters above. Figure 5 shows snapshots of the frame at different values of $a$. Notice that the size of the frames increases proportionally with $a$, such that if you took a snapshot for *every* $0 < a < c$ where $c\\in\\R$, you would end up with a rectangular-based prism."
   ]
  },
  {
   "cell_type": "markdown",
   "metadata": {},
   "source": [
    "**Figure 5:** How the frame expands as $a$ increases.\n",
    "\n",
    "![image](C:\\Users\\Jeremy\\Desktop\\math-IA\\images\\expanding-frame.jpg)"
   ]
  },
  {
   "cell_type": "markdown",
   "metadata": {},
   "source": [
    "$\\phi_x$ and $\\phi_y$ represent the \"angles of perception\" of the camera. Figure 6 shows how these affect the aspect ratio of the frame."
   ]
  },
  {
   "cell_type": "markdown",
   "metadata": {},
   "source": [
    "**Figure 6:** How the angles of perception affect the aspect ratio.\n",
    "\n",
    "![image](C:\\Users\\Jeremy\\Desktop\\math-IA\\images\\angle-of-perception.png)"
   ]
  },
  {
   "cell_type": "markdown",
   "metadata": {},
   "source": [
    "#### Determining the dimensions of the frame ####"
   ]
  },
  {
   "cell_type": "markdown",
   "metadata": {},
   "source": [
    "$cornerdist$ (the distance from the center of the frame to one of its corners) will increase at a faster rate with respect to $a$ if $\\phi_x$ and $\\phi_y$ are larger. Figure 7 shows how the angles of perception affect the aspect ratio of the camera."
   ]
  },
  {
   "cell_type": "markdown",
   "metadata": {},
   "source": [
    "**Figure 7:** $\\phi_x$ and $\\phi_y$\n",
    "\n",
    "![image](C:\\Users\\Jeremy\\Desktop\\math-IA\\images\\frame-math-basis.jpg)"
   ]
  },
  {
   "cell_type": "markdown",
   "metadata": {},
   "source": [
    "Figure 7 shows that if you know $l_x$ and $l_y$, then you can determine, $b$, which is the output of $cornerdist$.\n",
    "\n",
    "$b = \\sqrt{l_x^2 + l_y^2}$\n",
    "\n",
    "$l_x$ and $l_y$ can be found by:\n",
    "\n",
    "$l_x = a\\cos{\\phi_x}$\n",
    "\n",
    "$l_y = a\\cos{\\phi_y}$\n",
    "\n",
    "By substituting the expanded forms of $l_x$ and $l_y$, we can write $cornerdist$ as:\n",
    "\n",
    "$cornerdist(a, \\phi_x, \\phi_y)=\\sqrt{(a\\cos{\\phi_x})^2 + (a\\cos{\\phi_y})^2}$\n",
    "\n",
    "In addition, we can conclude that the frame is $2l_y$ units tall and $2l_x$ units wide."
   ]
  },
  {
   "cell_type": "markdown",
   "metadata": {},
   "source": [
    "#### Roll ####\n",
    "Now, we have a plane that the frame will lie on at any $a>0$ and a distance from a point on that plane that all of the corners of the frame will be. Thus, the possible locations for a corner of the frame at any $a>0$ is a circle with radius $cornerdist(a, \\phi_x, \\phi_y)$ that lies on the plane and has as its center $cam(a)$. The next step is to determine where each of the four corners of the frame lie on the plane at any $a>0$. To do this, we will need to introduce a new variable, $\\phi_r$, which stands for \"roll\". Rolling occurs along the $z$ axis of the camera. If you were to tilt your head from the left to the right, you would be performing a clockwise rolling operation (with a little bit of lateral translation). A head cannot do a $360^{\\circ}$ roll while keeping the body upright because it is secured to the body by the neck. However, a camera *can* perform a $360^{\\circ}$ rolling operation because it is not secured to anything that must rotate along with it. Rolling does not affect the equation for the line extending from the camera, $cam(a)$ because the axis that the rolling occurs on overlaps with $cam(a)$. In other words, when we roll the camera, we are rotating it about the line formed by $cam(a)$. What rolling affects is the orientation of the frame; rolling the camera can change where on the circle mentioned above each of the four frame points lies. When $\\phi_r=0$, the bottom and top of the frame are parallel with the plane formed by the $x$ and $z$ axes. Figure 8 shows how changing $\\phi_r$ affects the rotation of the frame corners."
   ]
  },
  {
   "cell_type": "markdown",
   "metadata": {},
   "source": [
    "**Figure 8:** How changing $\\phi_r$ affects the rotation of the frame corners.\n",
    "\n",
    "![image](C:\\Users\\Jeremy\\Desktop\\math-IA\\images\\frame-rotation.jpg)"
   ]
  },
  {
   "cell_type": "markdown",
   "metadata": {},
   "source": [
    "#### The set of all possible frame points ####"
   ]
  },
  {
   "cell_type": "markdown",
   "metadata": {},
   "source": [
    "We know that the distance from $cam(a)$ to any frame point will always be equal to $cornerdist(a, \\phi_x, \\phi_y)$, and that each frame point will be on plane $P$. Thus, the set of all possible frame points is contained in a circle with $cam(a)$ as its center that is parallel to plane $P$. We can find the equation of this circle by finding two orthogonal unit vectors that are parallel with $P$. $^3$\n",
    "\n",
    "A unit vector that is parallel with $P$ must be orthogonal to the line that $P$ is orthogonal to. $P$ is orthogonal to $A$, but $A$ is parallel with the following unit vector which we derived earlier, which we can call $\\vec{a}$:\n",
    "\n",
    "$\\vec{a} = \\begin{bmatrix} x_2 - p_x \\\\  y_2 - p_y \\\\ z_2 - p_z\\end{bmatrix}$\n",
    "\n",
    "Two vectors that are orthogonal to each other must have a dot product that is equal to zero. Thus, an orthogonal vector $\\vec{v_0}$ must satisfy the equation:\n",
    "\n",
    "$v_{x0}a_x + v_{y0}a_y + v_{z0}a_z = 0$\n",
    "\n",
    "This equation has three unknown variables, but there are an infinite number of vectors which can satisfy the equation. Thus, we can set two variables such as $v_x$ and $v_y$ equal to 1 and then solve for $v_z$.\n",
    "\n",
    "$v_{z0} = \\frac{-a_y - a_x}{a_z}$\n",
    "\n",
    "The magnitude of $v$ must be equal to 1, so we can solve for a scalar $h$ that satisfies the equation:\n",
    "\n",
    "$h\\lVert \\vec{v_0} \\rVert = 1$\n",
    "\n",
    "The product between $h$ and $\\vec{v_0}$ is the value of $\\vec{v}$, which is a unit vector parallel to plane $P$. The next step is to find a unit vector $\\vec{v'}$ that orthogonal to both $\\vec{v}$ and $\\vec{a}$. If $\\vec{a} = a_xi + a_yj + a_zk$ and $\\vec{v} = v_xi + v_yj + v_zk$, then this can be accomplished by finding the cross product between $\\vec{v}$ and $\\vec{a}$. $^4$\n",
    "\n",
    "$\\vec{v} \\times \\vec{a}$\n",
    "\n",
    "$\\Rightarrow det(\\begin{bmatrix} i & j & k \\\\ a_x & a_y & a_z \\\\ v_x & v_y & v_z \\end{bmatrix})$\n",
    "\n",
    "$\\Rightarrow det(\\begin{bmatrix} a_y & a_z \\\\ v_y & v_z \\end{bmatrix})i + det(\\begin{bmatrix} a_x & a_z \\\\ v_x & v_z \\end{bmatrix})j + det(\\begin{bmatrix} a_x & a_y \\\\ v_x & v_y \\end{bmatrix})k$\n",
    "\n",
    "$\\Rightarrow (v_za_y - a_zv_y)i + (v_za_x - v_xa_z)j + (v_ya_x - a_yv_x)k$\n",
    "\n",
    "$\\Rightarrow \\begin{bmatrix} v_za_y - a_zv_y \\\\ v_za_x - v_xa_z \\\\ v_ya_x - a_yv_x\\end{bmatrix} = \\vec{v'_0}$\n",
    "\n",
    "Again, the magnitude of $v'$ must be equal to 1, so:\n",
    "\n",
    "$\\vec{v'} = {\\lVert \\vec{v'_0} \\rVert}^{-1} \\vec{v'_0}$\n",
    "\n",
    "Now that we have two orthogonal unit vectors $\\vec{v}$ and $\\vec{v'}$ which are orthogonal to the plane $P$ and orthogonal to each other, we can write the equation for the circle, where $\\gamma$ is an angle and $r$ is equal to $cornerdist(a, \\phi_x, \\phi_y)$:\n",
    "\n",
    "$circle(\\gamma) = cam(a) + rv\\sin{\\gamma} + rv'\\cos{\\gamma} = \\begin{bmatrix} cam(a)_x + rv_x\\sin{\\gamma} + rv'_x\\cos{\\gamma} \\\\ cam(a)_y + rv_y\\sin{\\gamma} + rv'_y\\cos{\\gamma} \\\\cam(a)_z + rv_z\\sin{\\gamma} + rv'_z\\cos{\\gamma}\\end{bmatrix}$\n",
    "\n",
    "This formula is helpful because it will allow us to rotate each of the frame points by $\\phi_r$."
   ]
  },
  {
   "cell_type": "markdown",
   "metadata": {},
   "source": [
    "#### Determining $\\gamma_0$ ####"
   ]
  },
  {
   "cell_type": "markdown",
   "metadata": {},
   "source": [
    "There are two values of $\\gamma$ between $0^{\\circ}$ and $360^{\\circ}$ which share characteristic: when they are plugged into $circle(\\gamma)$, they produce a point which forms a line with $cam(a)$ that is parallel to the xz plane. In a mathematical sense, this means that $circle(\\gamma)_y$ = $cam(a)_y$. One of these points is called $\\gamma_0$. $\\gamma_0$ satisfies the following system:\n",
    "\n",
    "$circle(\\gamma_0 - 1)_y < circle(\\gamma_0)_y < circle(\\gamma_0 + 1)_y$ \n",
    "\n",
    "$circle(\\gamma_0)_y = cam(a)_y$\n",
    "\n",
    "$\\gamma_0$ is the 3D equivalent of $0^{\\circ}$ on the 3D unit circle. If we view $P$ from the perspective of the camera where $\\phi_r=0$, $circle(\\gamma_0)$ is always to the right of $cam(a)$.\n",
    "\n",
    "We can then solve for $\\gamma_0$:\n",
    "\n",
    "$circle(\\gamma_0)_y = cam(a)_y = cam(a)_y + rv_y\\sin{\\gamma_0} + rv'_y\\cos{\\gamma_0}$\n",
    "\n",
    "$\\Rightarrow rv_y\\sin{\\gamma_0} + rv'_y\\cos{\\gamma_0} = 0$\n",
    "\n",
    "$\\Rightarrow rv_y\\sin{\\gamma_0} = -rv'_y\\cos{\\gamma_0}$\n",
    "\n",
    "$\\Rightarrow v_y\\sin{\\gamma_0} = -v'_y\\cos{\\gamma_0}$\n",
    "\n",
    "$\\Rightarrow \\frac{\\sin{\\gamma_0}}{\\cos{\\gamma_0}} = \\frac{-v'_y}{v_y}$\n",
    "\n",
    "$\\Rightarrow \\tan{\\gamma_0} = \\frac{-v'_y}{v_y}$\n",
    "\n",
    "$\\Rightarrow \\gamma_0 = \\tan^{-1}{\\frac{-v'_y}{v_y}}$\n",
    "\n",
    "$\\tan^{-1}{\\frac{-v'_y}{v_y}}$ can produce two values between $0^{\\circ}$ and $360^{\\circ}$, but only one of them will satisfy the inequality mentioned above:\n",
    "\n",
    "$circle(\\gamma_0 - 1)_y < circle(\\gamma_0)_y < circle(\\gamma_0 + 1)_y$"
   ]
  },
  {
   "cell_type": "markdown",
   "metadata": {},
   "source": [
    "#### Deriving frame point $\\gamma$ values from $\\gamma_0$ at $\\phi=0$ ####"
   ]
  },
  {
   "cell_type": "markdown",
   "metadata": {},
   "source": [
    "As discussed in the previous subsection, $\\gamma_0$ is the 3D equivalent of the 2D unit circle. Figure 9 shows how each frame point can be derived from $\\gamma_0$ when $\\phi_r=0$."
   ]
  },
  {
   "cell_type": "markdown",
   "metadata": {},
   "source": [
    "**Figure 9:** Frame points when $\\phi_r=0$.\n",
    "\n",
    "![image](C:\\Users\\Jeremy\\Desktop\\math-IA\\images\\frame-points.jpg)"
   ]
  },
  {
   "cell_type": "markdown",
   "metadata": {},
   "source": [
    "The subscript of the $\\gamma$ value corresponds to each corner of the frame. For example, $circle(\\gamma_1)$ produces the top right corner of the frame at $\\phi_r=0$."
   ]
  },
  {
   "cell_type": "markdown",
   "metadata": {},
   "source": [
    "#### Deriving final frame points ####"
   ]
  },
  {
   "cell_type": "markdown",
   "metadata": {},
   "source": [
    "Recall that when $\\phi_r$ increases, the frame rotates clockwise. However, when the $\\gamma$ value in $circle(\\gamma)$ increases, the point produced by that function rotates counterclockwise. To remedy this contradiction, we can simply subtract $\\phi_r$ from each frame point $\\gamma$ value and then plug the result into $circle(\\gamma)$. For example, the top right corner of the camera would have the following point when $\\phi=30^{\\circ}$:\n",
    "\n",
    "$circle(\\gamma_1 - 30)$\n",
    "\n",
    "So, the general equation for a corner at any $\\phi_r$ value is: \n",
    "\n",
    "$c_n = circle(\\gamma_n - \\phi_r)$"
   ]
  },
  {
   "cell_type": "markdown",
   "metadata": {},
   "source": [
    "#### Conversion to 2D ####"
   ]
  },
  {
   "cell_type": "markdown",
   "metadata": {},
   "source": [
    "Now, we have the coordinates of the center of the frame, frame points, and the point ($e$) which we want to convert to 2D. The final step is to determine whether $e$ is contained in the box formed by the four corners of the frame. If it is, then we can determine the 2D coordinates that would represent $e$.\n",
    "\n",
    "First, let us define our 2D \"canvas.\" The longest dimension of the canvas will be 1000 units long, and the other dimension will be scaled accordingly. For example, if the aspect ratio of the canvas is 4:1, then the canvas will be 1000 units long and 250 units tall. The line segment connecting $c_3$ and $c_2$ will represent the $y$ axis of the canvas, while the line segment connecting $c_3$ and $c_4$ will represent the $x$ axis. $c_3$ represents the origin, meaning that its 2D coordinates are (0, 0).\n",
    "\n",
    "To make the math a bit easier, we can subtract $c_3$ from itself, $c_4$, $c_2$ and $e$ to get $\\vec{c_3}$ $\\vec{c_4}$, $\\vec{c_2}$ and $\\vec{e}$, respectively.\n",
    "\n",
    "To find the 2D $x$ and $y$ coordinates, we need to find the scalar projections of $\\vec{e}$ onto the vectors that represent the 2D axes. The scalar projection of one vector onto another vector tells us how much of the former is pointing in the direction of the latter. Figure 10 shows this visually."
   ]
  },
  {
   "cell_type": "markdown",
   "metadata": {},
   "source": [
    "**Figure 10:** An example of a scalar projection.\n",
    "\n",
    "![image](C:\\Users\\Jeremy\\Desktop\\math-IA\\images\\proj-example.jpg)"
   ]
  },
  {
   "cell_type": "markdown",
   "metadata": {},
   "source": [
    "The general formula for the scalar projection of some vector $\\vec{u}$ onto another vector $\\vec{v}$ is the dot product between the two vectors:\n",
    "\n",
    "$proj_{\\vec{v}}(\\vec{u}) = \\vec{v} \\cdot \\vec{u}$\n",
    "\n",
    "If the angle between two vectors is greater than $90 ^{\\circ}$, then the scalar projection will be negative.\n",
    "\n",
    "The scalar projections of $\\vec{e}$ are shown below:\n",
    "\n",
    "$proj_{\\vec{c_2}}(\\vec{e}) = \\vec{c_2} \\cdot \\vec{e}$\n",
    "\n",
    "$proj_{\\vec{c_4}}(\\vec{e}) = \\vec{c_4} \\cdot \\vec{e}$\n",
    "\n",
    "Figure 11 shows this visually."
   ]
  },
  {
   "cell_type": "markdown",
   "metadata": {},
   "source": [
    "**Figure 11:** How scalar projections can be used to find the 2D coordinates.\n",
    "\n",
    "![image](C:\\Users\\Jeremy\\Desktop\\math-IA\\images\\proj-concrete.jpg)"
   ]
  },
  {
   "cell_type": "markdown",
   "metadata": {},
   "source": [
    "$e$ is in the frame if:\n",
    "\n",
    "* $0 < proj_{\\vec{c_2}}(\\vec{e}) < \\lVert \\vec{c_2} \\rVert$\n",
    "* $0 < proj_{\\vec{c_4}}(\\vec{e}) < \\lVert \\vec{c_4} \\rVert$\n",
    "\n",
    "If $e$ satisfies the above criteria, then the $x$ and $y$ coordinates can be calculated, where $x_u$ and $y_u$ are the number of units in the horizontal and vertical axes, respectively:\n",
    "\n",
    "$x=x_u\\frac{proj_{\\vec{c_2}}(\\vec{e})}{\\vec{e}}$\n",
    "\n",
    "$y=y_u\\frac{proj_{\\vec{c_4}}(\\vec{e})}{\\vec{e}}$\n",
    "\n",
    "These coordinates can then be plotted as point on the 2D canvas."
   ]
  },
  {
   "cell_type": "markdown",
   "metadata": {},
   "source": [
    "## Section 7: Conclusion ##\n"
   ]
  },
  {
   "cell_type": "markdown",
   "metadata": {},
   "source": [
    "In this exploration, I built the mathematical basis for a 3D graphics engine. Specifically, I developed a method to convert a 3D vector space into a 2D vector space given a set of parameters. Overall, I believe that this exploration was a success.\n",
    "\n",
    "The most difficult part of this exploration was determining the coordinates of the frame points relative to $cam(a)$. I tried several different approaches to this problem, but kept finding that the variable I was trying to solve for could not be isolated. Although this process of trial and error was frustrating at times, it was a valuable learning experience because it sharpened my intution for how to set up a viable system of equations. Most of the systems that I established lead to dead ends, so when I finally stumbled across a system in which the target variable could be isolated, the characteristics of that system stood out. Knowing how to solve a system of equations is useless if you do not understand how to establish one in the first place.\n",
    "\n",
    "A limitation of this exploration is the fact that the graphics engine basically malfunctions if the camera's line of sight is parallel with any of the three axes. This is known as \"gimbal locking.\" According to Wikipedia, \"Gimbal lock is the loss of one degree of freedom in a three-dimensional, three-gimbal mechanism that occurs when the axes of two of the three gimbals are driven into a parallel configuration, 'locking' the system into rotation in a degenerate two-dimensional space.\" $^5$ Modern 3D graphics engines have sophisticated mechanisms in place to mitigate the effects of gimbal locking, but their implementation is beyond the scope of this investigation.\n",
    "\n",
    "Another limitation of this exploration is that it is computationally expensive. For every point we want to plot on the canvas, we must calculate the corresponding $a$ value, determine the equation of the orthogonal plane at that specific $a$ value, determine the coordinates of each frame point when $\\phi_r=0$, rotate each frame point by $\\phi_r$, convert the frame and the target point into a set of vectors and find the projections of $e$. There are many obvious redundancies in this process. For example, instead of deriving $c_{1-4}$ from each $a$ value (the most computationally expensive process in this exploration), I could have derived four frame point equations which take $a$ as their independent variable. Then, I could easily determine the coordinates of all four frame points at any $a$ value. However, I don't even need the coordinates of $c_1$, as shown in the previous section.\n",
    "\n",
    "A possible extension of this exploration is to implement the math discussed here into code. Then, I could visually see how changing different parameters affects the positions of the 2D representations of various points.\n",
    "\n",
    "3D graphics engines are ubiquitious nowadays. They are often used in CGI, video games, CAD modeling, and 3D printing to name a few. The math discussed in this exploration could be used for all of those purposes. In addition, it could be used to convert 2D vector spaces into 3D vector spaces. For example, if you have three different cameras pointing at an object at different angles and you know the dimensions of the object, you could reverse engineer the math presented here to triangulate the position of the object in a 3D vector space. This is especially useful in nascent fields such as autonomous driving."
   ]
  },
  {
   "cell_type": "markdown",
   "metadata": {},
   "source": [
    "## Section 8: Bibliography ##\n",
    "\n",
    "1. Dr. Peyman Show. *Rotation Matrix*. YouTube. Feb 13, 2019. https://www.youtube.com/watch?v=Ta8cKqltPfU.\n",
    "2. Mathispower4u. *Ex: Find the Equation of a Plane Given an Orthogonal Line (Parametric) and a Point*. YouTube. Feb 8, 2014. https://www.youtube.com/watch?v=eR7fmWA84j4.\n",
    "3. Andrew D. Hwang. *What is the equation of a general circle in 3-D space?*. StackExchange. Mar 10, 2015. https://math.stackexchange.com/questions/1184038/what-is-the-equation-of-a-general-circle-in-3-d-space.\n",
    "4. The Organic Chemistry Tour. *Cross Product of Two Vectors Explained!* YouTube. Aug 29, 2017. https://www.youtube.com/watch?v=pWbOisq1MJU.\n",
    "5. *Gimbal Lock*. Wikipedia. Visited Mar 8, 2022. https://en.wikipedia.org/wiki/Gimbal_lock#:~:text=Gimbal%20lock%20is%20the%20loss,misleading%3A%20no%20gimbal%20is%20restrained."
   ]
  },
  {
   "cell_type": "markdown",
   "metadata": {},
   "source": []
  }
 ],
 "metadata": {
  "kernelspec": {
   "display_name": "Python 3.10.0 64-bit",
   "language": "python",
   "name": "python3"
  },
  "language_info": {
   "name": "python",
   "version": "3.10.0"
  },
  "orig_nbformat": 4,
  "vscode": {
   "interpreter": {
    "hash": "cdf433682cbe9968d7764873f87164db8641effb758ebee62e489150bdf64f5a"
   }
  }
 },
 "nbformat": 4,
 "nbformat_minor": 2
}
